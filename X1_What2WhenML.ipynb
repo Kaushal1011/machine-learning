{
 "cells": [
  {
   "cell_type": "markdown",
   "metadata": {},
   "source": [
    "# What to do When Machine Learning\n"
   ]
  },
  {
   "cell_type": "markdown",
   "metadata": {},
   "source": [
    "\"The Universal workflow of machine learning\"\n",
    "\n"
   ]
  },
  {
   "cell_type": "markdown",
   "metadata": {},
   "source": [
    "## Defining the problem and assembling a dataset\n",
    "\n",
    "- What will your input data be? What are you trying to predict? You can only learn to predict something if you have available training data.\n",
    "\n",
    "- What type of problem are you facing? Is it binary classification? Multiclass classification? Scalar regression? Vector regression? Multiclass, multilabel classification? Something else, like clustering, generation, or reinforcement learning?\n",
    "\n",
    "\n",
    "- You hypothesize that your outputs can be predicted given your inputs.\n",
    "- You hypothesize that your available data is sufficiently informative to learn the relationship between inputs and outputs.\n",
    "\n",
    "> Keep in mind that machine learning can only be used to memorize patterns that\n",
    "are present in your training data. You can only recognize what you’ve seen before.\n",
    "Using machine learning trained on past data to predict the future is making the\n",
    "assumption that the future will behave like the past. That often isn’t the case. \n",
    "\n",
    "### Choosing a measure of success\n",
    "\n",
    "To control something, you need to be able to observe it. To achieve success, you must\n",
    "define what you mean by success—accuracy? Precision and recall? Customer-retention\n",
    "rate? Your metric for success will guide the choice of a loss function: what your model\n",
    "will optimize. It should directly align with your higher-level goals, such as the success\n",
    "of your business.\n",
    "\n",
    "For balanced-classification problems, where every class is equally likely, accuracy and\n",
    "area under the receiver operating characteristic curve (ROC AUC) are common metrics. For\n",
    "class-imbalanced problems, you can use precision and recall. For ranking problems or\n",
    "multilabel classification, you can use mean average precision. And it isn’t uncommon\n",
    "to have to define your own custom metric by which to measure success. \n",
    "\n",
    ">  To get a sense\n",
    "of the diversity of machine-learning success metrics and how they relate to different\n",
    "problem domains, it’s helpful to browse the data science competitions on Kaggle\n",
    "(https://kaggle.com); they showcase a wide range of problems and evaluation metrics.\n",
    "\n",
    "### Deciding on an evaluation protocol\n",
    "\n",
    "- Maintaining a hold-out validation set—The way to go when you have plenty of data\n",
    "- Doing K-fold cross-validation—The right choice when you have too few samples for hold-out validation to be reliable\n",
    "- Doing iterated K-fold validation—For performing highly accurate model evaluation when little data is available\n"
   ]
  },
  {
   "cell_type": "markdown",
   "metadata": {},
   "source": [
    "### Preparing Data\n",
    "\n",
    "You should\n",
    "format your data in a way that can be fed into a machine-learning model:\n",
    "- your data should be formatted as tensors.\n",
    "- The values taken by these tensors should usually be scaled to small values: for example, in the [-1, 1] range or [0, 1] range.\n",
    "- If different features take values in different ranges (heterogeneous data), then the data should be normalized.\n",
    "- You may want to do some feature engineering, especially for small-data problems.\n",
    "\n"
   ]
  },
  {
   "cell_type": "markdown",
   "metadata": {},
   "source": [
    "## Developing a model that does better than a baseline\n",
    "\n",
    "Your goal at this stage is to achieve statistical power: that is, to develop a small model\n",
    "that is capable of beating a dumb baseline.\n",
    "\n",
    "Note that it’s not always possible to achieve statistical power. If you can’t beat a random baseline after trying multiple reasonable architectures, it may be that the answer\n",
    "to the question you’re asking isn’t present in the input data. Remember that you make\n",
    "two hypotheses:\n",
    "- You hypothesize that your outputs can be predicted given your inputs.\n",
    "- You hypothesize that the available data is sufficiently informative to learn the relationship between inputs and outputs.\n",
    "\n",
    " Assuming that things go well, you need to make three key choices to build your\n",
    "first working model:\n",
    "- Last-layer activation—This establishes useful constraints on the network’s output. For instance, the IMDB classification example used sigmoid in the last layer; the regression example didn’t use any last-layer activation; and so on.\n",
    "- Loss function—This should match the type of problem you’re trying to solve. For instance, the IMDB example used binary_crossentropy, the regression example used mse, and so on.\n",
    "- Optimization configuration—What optimizer will you use? What will its learning rate be? In most cases, it’s safe to go with rmsprop and its default learning rate.\n",
    "\n",
    "![](img/modelparam.PNG)"
   ]
  },
  {
   "cell_type": "markdown",
   "metadata": {},
   "source": [
    "## Scaling up: developing a model that overfits\n",
    "\n",
    "Once you’ve obtained a model that has statistical power, the question becomes, is your\n",
    "model sufficiently powerful? Does it have enough layers and parameters to properly\n",
    "model the problem at hand? For instance, a network with a single hidden layer with\n",
    "two units would have statistical power on MNIST but wouldn’t be sufficient to solve the\n",
    "problem well. Remember that the universal tension in machine learning is between\n",
    "optimization and generalization; the ideal model is one that stands right at the border\n",
    "between underfitting and overfitting; between undercapacity and overcapacity. To figure out where this border lies, first you must cross it.\n",
    "\n",
    "To develop a model that overfits:\n",
    "\n",
    "1. Add layers.\n",
    "2. Make the layers bigger.\n",
    "3. Train for more epochs."
   ]
  },
  {
   "cell_type": "markdown",
   "metadata": {},
   "source": [
    "## Regularizing your model and tuning your hyperparameters\n",
    "\n",
    "This step will take the most time: you’ll repeatedly modify your model, train it, evaluate on your validation data (not the test data, at this point), modify it again, and\n",
    "repeat, until the model is as good as it can get. These are some things you should try:\n",
    "\n",
    "- Add dropout.\n",
    "- Try different architectures: add or remove layers.\n",
    "- Add L1 and/or L2 regularization.\n",
    "- Try different hyperparameters (such as the number of units per layer or the learning rate of the optimizer) to find the optimal configuration.\n",
    "- Optionally, iterate on feature engineering: add new features, or remove features that don’t seem to be informative\n",
    "\n",
    "> Be mindful of the following: every time you use feedback from your validation process\n",
    "to tune your model, you leak information about the validation process into the model.\n",
    "Repeated just a few times, this is innocuous; but done systematically over many iterations, it will eventually cause your model to overfit to the validation process (even\n",
    "though no model is directly trained on any of the validation data). This makes the\n",
    "evaluation process less reliable.\n",
    "\n"
   ]
  },
  {
   "cell_type": "markdown",
   "metadata": {},
   "source": [
    "## Summary\n",
    "\n",
    "- Define the problem at hand and the data on which you’ll train. Collect this data, or annotate it with labels if need be.\n",
    "- Choose how you’ll measure success on your problem. Which metrics will you monitor on your validation data?\n",
    "- Determine your evaluation protocol: hold-out validation? K-fold validation? Which portion of the data should you use for validation?\n",
    "- Develop a first model that does better than a basic baseline: a model with statistical power.\n",
    "- Develop a model that overfits.\n",
    "- Regularize your model and tune its hyperparameters, based on performance on the validation data. A lot of machine-learning research tends to focus only on this step—but keep the big picture in mind."
   ]
  },
  {
   "cell_type": "code",
   "execution_count": null,
   "metadata": {},
   "outputs": [],
   "source": []
  }
 ],
 "metadata": {
  "kernelspec": {
   "display_name": "Python 3",
   "language": "python",
   "name": "python3"
  },
  "language_info": {
   "codemirror_mode": {
    "name": "ipython",
    "version": 3
   },
   "file_extension": ".py",
   "mimetype": "text/x-python",
   "name": "python",
   "nbconvert_exporter": "python",
   "pygments_lexer": "ipython3",
   "version": "3.7.4"
  }
 },
 "nbformat": 4,
 "nbformat_minor": 4
}
