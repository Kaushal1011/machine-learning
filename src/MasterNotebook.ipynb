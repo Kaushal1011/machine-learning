{
 "cells": [
  {
   "cell_type": "markdown",
   "metadata": {},
   "source": [
    "# Practice Reference and Theory Notebook for Machine Learning\n",
    "- 31 Aug 2019\n",
    "- Theory Scrapped from Hands-On ML"
   ]
  },
  {
   "cell_type": "markdown",
   "metadata": {},
   "source": [
    "# Machine Learning\n"
   ]
  },
  {
   "cell_type": "markdown",
   "metadata": {},
   "source": [
    "- Whether or not they are trained with human supervision (supervised, unsupervised, semisupervised, and Reinforcement Learning)\n",
    "- Whether or not they can learn incrementally on the fly (online versus batch learning)\n",
    "- Whether they work by simply comparing new data points to known data points, or instead detect patterns in the training data and build a predictive model, much like scientists do (instance-based versus model-based learning)\n",
    "\n",
    "\n"
   ]
  },
  {
   "cell_type": "markdown",
   "metadata": {},
   "source": [
    "# Types Of Machine Learning Systems\n",
    "\n",
    "## Supervised VS Unsupervised learning\n",
    "\n",
    "### Supervised Learning\n",
    "- In supervised learning, the training data you feed to the algorithm includes the desired solutions, called labels \n",
    "    - k-Nearest Neighbors\n",
    "    - Linear Regression\n",
    "    - Logistic Regression\n",
    "    - Support Vector Machines (SVMs)\n",
    "    - Decision Trees and Random Forests\n",
    "    \n",
    "    - Neural networks\n",
    "\n",
    "### Unsupervised Learning\n",
    "- In unsupervised learning, as you might guess, the training data is unlabeled. The system tries to learn without a teacher\n",
    "    - Clustering\n",
    "        - k-Means\n",
    "        - Hierarchical Cluster Analysis (HCA)\n",
    "        - Expectation Maximization\n",
    "    - Visualization and dimensionality reduction\n",
    "        - Principal Component Analysis (PCA)\n",
    "        - Kernel PCA\n",
    "        - Locally-Linear Embedding (LLE)\n",
    "        - t-distributed Stochastic Neighbor Embedding (t-SNE)\n",
    "    - Association rule learning\n",
    "        - Apriori\n",
    "        - Eclat\n",
    "\n",
    "## Semisupervised Learning\n",
    "- Some algorithms can deal with partially labeled training data, usually a lot of unla beled data and a little bit of labeled data. This is called semisupervised learning\n",
    "- Most semisupervised learning algorithms are combinations of unsupervised and supervised algorithms. For example, deep belief networks (DBNs) are based on unsu‐ pervised components called restricted Boltzmann machines (RBMs) stacked on top of one another. RBMs are trained sequentially in an unsupervised manner, and then the whole system is fine-tuned using supervised learning techniques.\n",
    "\n",
    "## Reinforcement Learning\n",
    "- Reinforcement Learning is a very different beast. The learning system, called an agent in this context, can observe the environment, select and perform actions, and get rewards in return (or penalties in the form of negative rewards. It must then learn by itself what is the best strategy, called a policy, to get the most reward over time. A policy defines what action the agent should choose when it is in a given situation.\n",
    "\n",
    "##  Batch And Online Learning\n",
    "\n",
    "### Batch Learning\n",
    "- In batch learning, the system is incapable of learning incrementally: it must be trained using all the available data. This will generally take a lot of time and computing resources, so it is typically done offline. First the system is trained, and then it is launched into production and runs without learning anymore; it just applies what it has learned. This is called offline learning.\n",
    "- If you want a batch learning system to know about new data (such as a new type of spam), you need to train a new version of the system from scratch on the full dataset (not just the new data, but also the old data), then stop the old system and replace it with the new one.\n",
    "\n",
    "### Online Learning\n",
    "- In online learning, you train the system incrementally by feeding it data instances sequentially, either individually or by small groups called mini-batches. Each learning step is fast and cheap, so the system can learn about new data on the fly, as it arrives\n",
    "- Online learning is great for systems that receive data as a continuous flow (e.g., stock prices) and need to adapt to change rapidly or autonomously. It is also a good option if you have limited computing resources: once an online learning system has learned about new data instances, it does not need them anymore, so you can discard them (unless you want to be able to roll back to a previous state and “replay” the data). This can save a huge amount of space.\n",
    "- Online learning algorithms can also be used to train systems on huge datasets that cannot fit in one machine’s main memory (this is called out-of-core learning). The algorithm loads part of the data, runs a training step on that data, and repeats the process until it has run on all of the data\n",
    "    - This whole process is usually done offline (i.e., not on the live system), so online learning can be a confusing name. Think of it as incremental learning\n",
    "- Importance of Learning Rate in Online Learning\n",
    "\n",
    "## Instance-Based Vs Model-Based Learning\n",
    "\n",
    "### Instance-Based Learning\n",
    "- the system learns the examples by heart, then generalizes to new cases using a similarity measure \n",
    "\n",
    "### Model-Based Learning\n",
    "- Another way to generalize from a set of examples is to build a model of these examples, then use that model to make predictions. This is called model-based learning\n",
    "\n"
   ]
  },
  {
   "cell_type": "markdown",
   "metadata": {},
   "source": [
    "# Challenges of Machine Learning\n",
    "- Insuffcient Quantity of Training Data\n",
    "- Nonrepresentative Training Data\n",
    "- Poor-Quality Data\n",
    "- Irrelevant Features\n",
    "- Overfitting the Training Data\n",
    "- Underfitting the Training Data\n"
   ]
  },
  {
   "cell_type": "markdown",
   "metadata": {},
   "source": [
    "Most Common Supervised Learning Tasks are Classification(predicting classes) And Regression(predicting Values)"
   ]
  },
  {
   "cell_type": "markdown",
   "metadata": {},
   "source": [
    "# Training Models\n"
   ]
  },
  {
   "cell_type": "markdown",
   "metadata": {},
   "source": [
    "# Linear Regression"
   ]
  },
  {
   "cell_type": "markdown",
   "metadata": {},
   "source": [
    "Equation 4-1. Linear Regression model prediction\n",
    "\n",
    "y = θ0 + θ1x1 + θ2x2 + ⋯ + θnxn"
   ]
  },
  {
   "cell_type": "markdown",
   "metadata": {},
   "source": [
    "- ŷ is the predicted value.\n",
    "- n is the number of features.\n",
    "- xi is the ith feature value.\n",
    "- θj is the jth model parameter (including the bias term θ0 and the feature weights θ1 , θ2 , ⋯, θn).\n"
   ]
  },
  {
   "cell_type": "markdown",
   "metadata": {},
   "source": [
    "Equation 4-2. Linear Regression model prediction (vectorized form)\n",
    "\n",
    "y = hθ(x) = θT.x\n"
   ]
  },
  {
   "cell_type": "markdown",
   "metadata": {},
   "source": [
    "we use MSE cost Function and then minimise it.\n",
    "\n",
    "MSE (x , hθ) = 1/m ∑(θT·x(i)− y(i))^2\n",
    "\n",
    "One way to do this is to use Normal Equation which directly gives us values of theta\n",
    "\n",
    "θ = ((XT·X)^-1).XT.y"
   ]
  },
  {
   "cell_type": "code",
   "execution_count": 395,
   "metadata": {},
   "outputs": [
    {
     "data": {
      "text/plain": [
       "<matplotlib.axes._subplots.AxesSubplot at 0x1d1222f17c8>"
      ]
     },
     "execution_count": 395,
     "metadata": {},
     "output_type": "execute_result"
    },
    {
     "data": {
      "image/png": "[encoded data removed]",
      "text/plain": [
       "<Figure size 432x288 with 1 Axes>"
      ]
     },
     "metadata": {
      "needs_background": "light"
     },
     "output_type": "display_data"
    }
   ],
   "source": [
    "import numpy as np\n",
    "import seaborn as sns\n",
    "X=np.arange(100)\n",
    "delta = np.random.uniform(-36,36, size=(100,))\n",
    "y=4+3*X+delta\n",
    "sns.scatterplot(data=y)"
   ]
  },
  {
   "cell_type": "code",
   "execution_count": 396,
   "metadata": {},
   "outputs": [],
   "source": [
    "X_b=np.c_[np.ones((100,1)),X]\n",
    "theta_best=np.linalg.inv(X_b.T.dot(X_b)).dot(X_b.T).dot(y)"
   ]
  },
  {
   "cell_type": "code",
   "execution_count": 397,
   "metadata": {},
   "outputs": [
    {
     "data": {
      "text/plain": [
       "array([-1.69060668,  3.07070132])"
      ]
     },
     "execution_count": 397,
     "metadata": {},
     "output_type": "execute_result"
    }
   ],
   "source": [
    "theta_best"
   ]
  },
  {
   "cell_type": "code",
   "execution_count": 398,
   "metadata": {},
   "outputs": [],
   "source": [
    "X_new = np.arange(100)\n",
    "X_new_b = np.c_[np.ones((100, 1)), X_new] # add x0 = 1 to each instance\n",
    "y_predict = X_new_b.dot(theta_best)\n",
    "\n"
   ]
  },
  {
   "cell_type": "code",
   "execution_count": 399,
   "metadata": {},
   "outputs": [
    {
     "data": {
      "image/png": "[encoded data removed]",
      "text/plain": [
       "<Figure size 432x288 with 1 Axes>"
      ]
     },
     "metadata": {
      "needs_background": "light"
     },
     "output_type": "display_data"
    }
   ],
   "source": [
    "import matplotlib.pyplot as plt\n",
    "plt.plot( y_predict, \"r-\")\n",
    "plt.plot( y, \"c.\")\n",
    "plt.show()"
   ]
  },
  {
   "cell_type": "markdown",
   "metadata": {},
   "source": [
    "- The Normal Equation gets very slow when the number of features grows large (e.g., 100,000).\n",
    "\n",
    "- The Normal Equation computes the inverse of XT · X, which is an n × n matrix (where n is the number of features). The computational complexity of inverting such a matrix is typically about O(n 2.4) to O(n 3 ) (depending on the implementation). In other words, if you double the number of features, you multiply the computation time by roughly 22.4 = 5.3 to 23  = 8.\n",
    " \n",
    "- On the positive side, this equation is linear with regards to the number of instances in the training set (it is O(m)), so it handles large training sets efficiently, provided they can fit in memory.\n",
    "\n"
   ]
  },
  {
   "cell_type": "markdown",
   "metadata": {},
   "source": [
    "### Gradient Descent\n",
    "Gradient Descent is a very generic optimization algorithm capable of finding optimal\n",
    "solutions to a wide range of problems. The general idea of Gradient Descent is to\n",
    "tweak parameters iteratively in order to minimize a cost function.you start by filling θ with random values (this is called random initializa‐\n",
    "tion), and then you improve it gradually, taking one baby step at a time, each step\n",
    "attempting to decrease the cost function (e.g., the MSE), until the algorithm converges\n",
    "to a minimum.\n",
    "An important parameter in Gradient Descent is the size of the steps, determined by\n",
    "the learning rate hyperparameter. If the learning rate is too small, then the algorithm\n",
    "will have to go through many iterations to converge, which will take a long time.\n",
    "On the other hand, if the learning rate is too high, you might jump across the valley\n",
    "and end up on the other side, possibly even higher up than you were before. This\n",
    "might make the algorithm diverge, with larger and larger values, failing to find a good\n",
    "solution\n"
   ]
  },
  {
   "cell_type": "markdown",
   "metadata": {},
   "source": [
    "### When using Gradient Descent, you should ensure that all features have a similar scale (e.g., using Scikit-Learn’s StandardScaler class), or else it will take much longer to converge."
   ]
  },
  {
   "cell_type": "markdown",
   "metadata": {},
   "source": [
    "# Batch Gradient Descent"
   ]
  },
  {
   "cell_type": "markdown",
   "metadata": {},
   "source": [
    "# Fix This Code\n",
    "## probably not working because gradient descent requires scaled data and this is not scaled?"
   ]
  },
  {
   "cell_type": "code",
   "execution_count": 400,
   "metadata": {},
   "outputs": [
    {
     "name": "stdout",
     "output_type": "stream",
     "text": [
      "[[16.45000515]\n",
      " [15.89745546]]\n"
     ]
    },
    {
     "data": {
      "image/png": "[encoded data removed]",
      "text/plain": [
       "<Figure size 432x288 with 1 Axes>"
      ]
     },
     "metadata": {
      "needs_background": "light"
     },
     "output_type": "display_data"
    }
   ],
   "source": [
    "X=np.arange(100)\n",
    "delta = np.random.uniform(-36,36,100)\n",
    "y=4+3*X+delta\n",
    "y=y.reshape((100,1))\n",
    "sns.scatterplot(data=y)\n",
    "X_b=np.c_[np.ones((100,1)),X]\n",
    "eta = 0.1 # learning rate\n",
    "n_iterations = 100\n",
    "m = 100\n",
    "theta = np.random.randn(2,1)+16\n",
    "print(theta)# random initialization\n",
    "# print(X_b.shape)\n",
    "# print(X_b.T.shape)\n",
    "# print(theta.shape)\n",
    "# print(y.shape)\n",
    "# print((np.subtract(np.dot(X_b,theta),y)).shape)\n",
    "for iteration in range(n_iterations):\n",
    "    gradients = 2/m*X_b.T.dot(X_b.dot(theta)-y)\n",
    "    #print(gradients.shape)\n",
    "    theta = theta + eta*gradients\n"
   ]
  },
  {
   "cell_type": "code",
   "execution_count": 401,
   "metadata": {},
   "outputs": [
    {
     "data": {
      "text/plain": [
       "array([[1.28597177e+281],\n",
       "       [8.52962031e+282]])"
      ]
     },
     "execution_count": 401,
     "metadata": {},
     "output_type": "execute_result"
    }
   ],
   "source": [
    "\n",
    "theta\n"
   ]
  },
  {
   "cell_type": "markdown",
   "metadata": {},
   "source": [
    "# Stochastic Gradient Descent\n",
    "\n",
    "- The main problem with Batch Gradient Descent is the fact that it uses the whole training set to compute the gradients at every step, which makes it very slow when the training set is large. At the opposite extreme, Stochastic Gradient Descent just picks a random instance in the training set at every step and computes the gradients based only on that single instance. Obviously this makes the algorithm much faster since it has very little data to manipulate at every iteration. It also makes it possible to train on huge training sets, since only one instance needs to be in memory at each iteration (SGD can be implemented as an out-of-core algorithm.)\n",
    "- On the other hand, due to its stochastic (i.e., random) nature, this algorithm is much less regular than Batch Gradient Descent: instead of gently decreasing until it reaches the minimum, the cost function will bounce up and down, decreasing only on average. Over time it will end up very close to the minimum, but once it gets there it will continue to bounce around, never settling down "
   ]
  },
  {
   "cell_type": "code",
   "execution_count": 402,
   "metadata": {},
   "outputs": [],
   "source": [
    "X_b=X_b.reshape(100,2)\n",
    "y=y.reshape(100,1)"
   ]
  },
  {
   "cell_type": "markdown",
   "metadata": {},
   "source": [
    "```python\n",
    "from sklearn.linear_model import SGDRegressor\n",
    "sgd_reg = SGDRegressor(penalty=None, eta0=0.1)\n",
    "sgd_reg.fit(X, y.ravel())\n",
    "```\n"
   ]
  },
  {
   "cell_type": "markdown",
   "metadata": {},
   "source": [
    "\n",
    "### Mini-batch Gradient Descent\n",
    "\n"
   ]
  },
  {
   "cell_type": "markdown",
   "metadata": {},
   "source": [
    "-  Mini-batch GD computes the gradients on small random sets of instances called minibatches\n",
    "-  The main advantage of Mini-batch GD over Stochastic GD is that you can get a performance boost from hardware optimization of matrix operations, especially when using GPUs."
   ]
  },
  {
   "cell_type": "code",
   "execution_count": 403,
   "metadata": {},
   "outputs": [
    {
     "data": {
      "text/plain": [
       "'\\nAlgorithm           Large m     Out-of-core support      Large n     Hyperparams     Scaling required      Scikit-Learn\\nNormal Equation     Fast        No                       Slow        0               No                    LinearRegression\\nBatch GD            Slow        No                       Fast        2               Yes                   n/a\\nStochastic GD       Fast        Yes                      Fast        ≥2              Yes                   SGDRegressor\\nMini-batch GD       Fast        Yes                      Fast        ≥2              Yes                   n/a\\n\\n'"
      ]
     },
     "execution_count": 403,
     "metadata": {},
     "output_type": "execute_result"
    }
   ],
   "source": [
    "\"\"\"\n",
    "Algorithm           Large m     Out-of-core support      Large n     Hyperparams     Scaling required      Scikit-Learn\n",
    "Normal Equation     Fast        No                       Slow        0               No                    LinearRegression\n",
    "Batch GD            Slow        No                       Fast        2               Yes                   n/a\n",
    "Stochastic GD       Fast        Yes                      Fast        ≥2              Yes                   SGDRegressor\n",
    "Mini-batch GD       Fast        Yes                      Fast        ≥2              Yes                   n/a\n",
    "\n",
    "\"\"\""
   ]
  },
  {
   "cell_type": "markdown",
   "metadata": {},
   "source": [
    "## Polynomial Regression\n",
    "What if your data is actually more complex than a simple straight line? Surprisingly,\n",
    "you can actually use a linear model to fit nonlinear data. A simple way to do this is to\n",
    "add powers of each feature as new features, then train a linear model on this extended\n",
    "set of features. This technique is called Polynomial Regression.\n"
   ]
  },
  {
   "cell_type": "code",
   "execution_count": 404,
   "metadata": {},
   "outputs": [],
   "source": [
    "m = 100\n",
    "X = np.arange(-100,100).reshape(200,1)\n",
    "y = 0.5 * X**2 + X + 2 + 700*np.random.randn(200,1)"
   ]
  },
  {
   "cell_type": "code",
   "execution_count": 405,
   "metadata": {},
   "outputs": [
    {
     "data": {
      "text/plain": [
       "<matplotlib.axes._subplots.AxesSubplot at 0x1d1225970c8>"
      ]
     },
     "execution_count": 405,
     "metadata": {},
     "output_type": "execute_result"
    },
    {
     "data": {
      "image/png": "[encoded data removed]",
      "text/plain": [
       "<Figure size 432x288 with 1 Axes>"
      ]
     },
     "metadata": {
      "needs_background": "light"
     },
     "output_type": "display_data"
    }
   ],
   "source": [
    "sns.scatterplot(data=y)"
   ]
  },
  {
   "cell_type": "code",
   "execution_count": 406,
   "metadata": {},
   "outputs": [
    {
     "data": {
      "text/plain": [
       "(array([97.81204954]), array([[0.26780961, 0.47912722]]))"
      ]
     },
     "execution_count": 406,
     "metadata": {},
     "output_type": "execute_result"
    }
   ],
   "source": [
    "from sklearn.preprocessing import PolynomialFeatures\n",
    "from sklearn.linear_model import LinearRegression\n",
    "poly_features = PolynomialFeatures(degree=2, include_bias=False)\n",
    "X_poly = poly_features.fit_transform(X)\n",
    "lin_reg = LinearRegression()\n",
    "lin_reg.fit(X_poly, y)\n",
    "lin_reg.intercept_, lin_reg.coef_\n"
   ]
  },
  {
   "cell_type": "code",
   "execution_count": 407,
   "metadata": {},
   "outputs": [
    {
     "data": {
      "image/png": "[encoded data removed]",
      "text/plain": [
       "<Figure size 432x288 with 1 Axes>"
      ]
     },
     "metadata": {
      "needs_background": "light"
     },
     "output_type": "display_data"
    }
   ],
   "source": [
    " # add x0 = 1 to each instance\n",
    "y_predict = lin_reg.predict(X_poly)\n",
    "plt.plot( y_predict, \"r-\")\n",
    "plt.plot(y,\"c.\")\n",
    "plt.show()"
   ]
  },
  {
   "cell_type": "markdown",
   "metadata": {},
   "source": [
    "## Examples of Overfitting"
   ]
  },
  {
   "cell_type": "code",
   "execution_count": 408,
   "metadata": {},
   "outputs": [
    {
     "data": {
      "image/png": "[encoded data removed]",
      "text/plain": [
       "<Figure size 432x288 with 1 Axes>"
      ]
     },
     "metadata": {
      "needs_background": "light"
     },
     "output_type": "display_data"
    }
   ],
   "source": [
    "poly_features = PolynomialFeatures(degree=20, include_bias=False)\n",
    "X_poly = poly_features.fit_transform(X)\n",
    "lin_reg = LinearRegression()\n",
    "lin_reg.fit(X_poly, y)\n",
    "lin_reg.intercept_, lin_reg.coef_\n",
    "y_predict = lin_reg.predict(X_poly)\n",
    "plt.plot( y_predict, \"r-\")\n",
    "plt.plot(y,\"c.\")\n",
    "plt.show()"
   ]
  },
  {
   "cell_type": "markdown",
   "metadata": {},
   "source": [
    "\n",
    "### using pipelining for polynomial regression\n",
    "```python\n",
    "from sklearn.pipeline import Pipeline\n",
    "polynomial_regression = Pipeline((\n",
    " (\"poly_features\", PolynomialFeatures(degree=10, include_bias=False)),\n",
    " (\"sgd_reg\", LinearRegression()),\n",
    " ))\n",
    "plot_learning_curves(polynomial_regression, X, y)\n",
    "```\n"
   ]
  },
  {
   "cell_type": "markdown",
   "metadata": {},
   "source": [
    "# About Learning Curves\n",
    "\n",
    "### Learning curves code from Hands-On Ml"
   ]
  },
  {
   "cell_type": "code",
   "execution_count": 409,
   "metadata": {},
   "outputs": [
    {
     "data": {
      "image/png": "[encoded data removed]",
      "text/plain": [
       "<Figure size 432x288 with 1 Axes>"
      ]
     },
     "metadata": {
      "needs_background": "light"
     },
     "output_type": "display_data"
    }
   ],
   "source": [
    "from sklearn.metrics import mean_squared_error\n",
    "from sklearn.model_selection import train_test_split\n",
    "from sklearn.preprocessing import PolynomialFeatures\n",
    "from sklearn.linear_model import LinearRegression\n",
    "import matplotlib.pyplot as plt\n",
    "import numpy as np\n",
    "\n",
    "def plot_learning_curves(model, X, y):\n",
    "    X_train, X_val, y_train, y_val = train_test_split(X, y, test_size=0.2)\n",
    "    train_errors, val_errors = [], []\n",
    "    for m in range(1, len(X_train)):\n",
    "        model.fit(X_train[:m], y_train[:m])\n",
    "        y_train_predict = model.predict(X_train[:m])\n",
    "        y_val_predict = model.predict(X_val)\n",
    "        train_errors.append(mean_squared_error(y_train_predict, y_train[:m]))\n",
    "        val_errors.append(mean_squared_error(y_val_predict, y_val))\n",
    "    plt.plot(np.sqrt(train_errors), \"r-+\", linewidth=2, label=\"train\") \n",
    "    plt.plot(np.sqrt(val_errors), \"b-\", linewidth=3, label=\"val\")\n",
    "\n",
    "X = np.arange(-100,100).reshape(200,1)\n",
    "y = 0.5 * X**2 + X + 2 + 700*np.random.randn(200,1)\n",
    "\n",
    "poly_features = PolynomialFeatures(degree=2, include_bias=False)\n",
    "X_poly = poly_features.fit_transform(X)\n",
    "lin_reg = LinearRegression()\n",
    "plot_learning_curves(lin_reg, X_poly, y)"
   ]
  },
  {
   "cell_type": "markdown",
   "metadata": {},
   "source": [
    "- One way to improve an overfitting model is to feed it more training data until the validation error reaches the training error\n",
    "\n",
    "### Learning Curves Topic requires more theory add here!!!"
   ]
  },
  {
   "cell_type": "markdown",
   "metadata": {},
   "source": [
    "##### The Bias/Variance Tradeoff\n",
    "- a model’s generalization error can be expressed as the sum of three very different errors:\n",
    "###### Bais\n",
    "- This part of the generalization error is due to wrong assumptions, such as assum‐ ing that the data is linear when it is actually quadratic. A high-bias model is most likely to underfit the training data.\n",
    "###### Variance\n",
    "- This part is due to the model’s excessive sensitivity to small variations in the training data. A model with many degrees of freedom (such as a high-degree polynomial model) is likely to have high variance, and thus to overfit the training data\n",
    "###### Irreducible error\n",
    "- This part is due to the noisiness of the data itself. The only way to reduce this part of the error is to clean up the data (e.g., fix the data sources, such as broken sensors, or detect and remove outliers)"
   ]
  },
  {
   "cell_type": "markdown",
   "metadata": {},
   "source": [
    "# Regularuized Linear Models"
   ]
  },
  {
   "cell_type": "markdown",
   "metadata": {},
   "source": [
    "## Ridge Regression\n",
    "\n",
    "_*Ridge Regression*_ (also called Tikhonov regularization) is a regularized version of Lin‐\n",
    "ear Regression: a regularization term equal to α∑θ(i)^2\n",
    " is added to the cost function.\n",
    "This forces the learning algorithm to not only fit the data but also keep the model\n",
    "weights as small as possible. Note that the regularization term should only be added\n",
    "to the cost function during training. Once the model is trained, you want to evaluate\n",
    "the model’s performance using the unregularized performance measure."
   ]
  },
  {
   "cell_type": "markdown",
   "metadata": {},
   "source": [
    "##### It is important to scale the data (e.g., using a StandardScaler) before performing Ridge Regression, as it is sensitive to the scale of the input features. This is true of most regularized models"
   ]
  },
  {
   "cell_type": "markdown",
   "metadata": {},
   "source": [
    "J(θ)=MSE(θ)+α*0.5*∑θ(i)^2\n"
   ]
  },
  {
   "cell_type": "markdown",
   "metadata": {},
   "source": [
    "### Ridge Regression Closed Form\n",
    "\n",
    "θ = ((XT·X + αA)^-1)·XT·Y\n",
    "\n",
    "A is the n × n identity\n",
    "matrix13 except with a 0 in the top-left cell, corresponding to the bias term\n",
    "\n",
    "code example\n",
    "\n",
    "```python\n",
    "from sklearn.linear_model import Ridge\n",
    "ridge_reg = Ridge(alpha=1, solver=\"cholesky\")\n",
    "ridge_reg.fit(X, y)\n",
    "ridge_reg.predict([[1.5]])\n",
    "sgd_reg = SGDRegressor(penalty=\"l2\")\n",
    "sgd_reg.fit(X, y.ravel())\n",
    "sgd_reg.predict([[1.5]])\n",
    "```\n"
   ]
  },
  {
   "cell_type": "markdown",
   "metadata": {},
   "source": [
    "\n",
    "#### in layman terms using ridge regression flattens the prediction line. write code to check this for yourself. plot prediction line for different values of alpha\n"
   ]
  },
  {
   "cell_type": "markdown",
   "metadata": {},
   "source": [
    "## Lasso Regression\n",
    "\n",
    "Least Absolute Shrinkage and Selection Operator Regression (simply called Lasso\n",
    "Regression) is another regularized version of Linear Regression: just like Ridge\n",
    "Regression, it adds a regularization term to the cost function, but it uses the ℓ1 norm\n",
    "of the weight vector instead of half the square of the ℓ2\n",
    " norm "
   ]
  },
  {
   "cell_type": "markdown",
   "metadata": {},
   "source": [
    "J(θ) = MSE(θ) + α∑|θi|\n"
   ]
  },
  {
   "cell_type": "markdown",
   "metadata": {},
   "source": [
    "### An important characteristic of Lasso Regression is that it tends to completely eliminate the weights of the least important features (i.e., set them to zero). "
   ]
  },
  {
   "cell_type": "markdown",
   "metadata": {},
   "source": [
    "```python\n",
    "from sklearn.linear_model import Lasso\n",
    "lasso_reg = Lasso(alpha=0.1)\n",
    "lasso_reg.fit(X, y)\n",
    "lasso_reg.predict([[1.5]])\n",
    "```"
   ]
  },
  {
   "cell_type": "markdown",
   "metadata": {},
   "source": [
    "## Elastic Net\n",
    "\n",
    "Elastic Net is a middle ground between Ridge Regression and Lasso Regression. The\n",
    "regularization term is a simple mix of both Ridge and Lasso’s regularization terms,\n",
    "and you can control the mix ratio r. When r = 0, Elastic Net is equivalent to Ridge\n",
    "Regression, and when r = 1, it is equivalent to Lasso Regression "
   ]
  },
  {
   "cell_type": "markdown",
   "metadata": {},
   "source": [
    "J(θ) = MSE(θ) + rα∑|θi| + ((1 − r)/2)*α∑(θi)^2\n",
    "```python\n",
    "from sklearn.linear_model import ElasticNet\n",
    "elastic_net = ElasticNet(alpha=0.1, l1_ratio=0.5)\n",
    "elastic_net.fit(X, y)\n",
    "elastic_net.predict([[1.5]])\n",
    "```"
   ]
  },
  {
   "cell_type": "code",
   "execution_count": null,
   "metadata": {},
   "outputs": [],
   "source": []
  }
 ],
 "metadata": {
  "kernelspec": {
   "display_name": "Python 3",
   "language": "python",
   "name": "python3"
  },
  "language_info": {
   "codemirror_mode": {
    "name": "ipython",
    "version": 3
   },
   "file_extension": ".py",
   "mimetype": "text/x-python",
   "name": "python",
   "nbconvert_exporter": "python",
   "pygments_lexer": "ipython3",
   "version": "3.7.1"
  }
 },
 "nbformat": 4,
 "nbformat_minor": 4
}
