{
 "cells": [
  {
   "cell_type": "markdown",
   "metadata": {},
   "source": [
    "## Resampling Methods\n",
    "---"
   ]
  },
  {
   "cell_type": "markdown",
   "metadata": {},
   "source": [
    "Cross-validation can be used to estimate the test\n",
    "error associated with a given statistical learning method in order to evaluate\n",
    "its performance, or to select the appropriate level of flexibility.\n",
    "\n",
    "The bootstrap is used in several contexts, most commonly\n",
    "to provide a measure of accuracy of a parameter estimate or of a given\n",
    "statistical learning method."
   ]
  },
  {
   "cell_type": "markdown",
   "metadata": {},
   "source": [
    "### Cross Validation"
   ]
  },
  {
   "cell_type": "markdown",
   "metadata": {},
   "source": [
    "*Validation Set Approach* involves dividing the dataset into 2 equal parts randomly into a training set and a test set. The resulting model fit of the training data is used on the test data and the training MSE is compared with test MSE. This process is repeated multiple number of times. There are two potential drawbacks in this approach:\n",
    "- The validation estimate of the test error rate can be highly variable, depending on precisely which observations are included in the training set and which observations are included in the validation set.\n",
    "- In the validation approach, only a subset of the observations—those that are included in the training set rather than in the validation set—are used to fit the model. Since statistical methods tend to perform worse when trained on fewer observations, this suggests that the validation set error rate may tend to overestimate the test error rate for the model fit on the entire data set."
   ]
  },
  {
   "cell_type": "markdown",
   "metadata": {},
   "source": [
    "*Leave-one-out cross-validation* creates a subset of a single observation $\\left(x_{1}, y_{1}\\right)$ in validation set and all the remaining observations make up the training set. The model is then fitted on $n - 1$ observations and MSE is calculated for only one observation as $MSE = \\left(y_{1} - \\hat{y_{1}}\\right)^{2}$. This is repeated $n$ times with $\\left(x_{i}, y_{i}\\right)$ respectively and the final cross validation is the mean of all the MSE. $$CV_{\\left(n\\right)} = \\frac{1}{n}\\sum_{i = 1}^{n}MSE_{i}$$ There are two major benefits of LOOCV approach:\n",
    "- It has very less bias as almost entire dataset is used to fit.\n",
    "- There is no randomness in training and test fit.\n",
    "\n",
    "This approach can be computationally expensive as we have to fit model for $n$ times but with least squares regression or polynomial regression, this can be overcome using the *leverage statistic* computed for simple linear regression as\n",
    "\n",
    "$$h_{i} = \\frac{1}{n} + \\frac{\\left(x_{i} - \\bar{x}\\right)^{2}}{\\sum_{i' = 1}^{n}\\left(x_{i'}-\\bar{x}\\right)^{2}}$$\n",
    "\n",
    "$$CV_{\\left(n\\right)} = \\frac{1}{n}\\sum_{i = 1}^{n}\\left(\n",
    "    \\frac{y_{i} - \\hat{y}_{i}}{1 - h_{i}}\n",
    "\\right)^{2}$$\n",
    "\n",
    "which makes the value model fit equal to one time fit!\n",
    "\n",
    "Though this model can be used for logistic regression or LDA, the above formula will not work for them and the model will have to be fit for $n$ times in general.\n",
    "\n",
    "Since LOOCV can be computationally intensive, we may want to use *k-Fold Cross Validation*. It also gives potentially more accurate estimates of test error rates that LOOCV. This has to do with the bias-variance trade-off."
   ]
  },
  {
   "cell_type": "markdown",
   "metadata": {},
   "source": [
    "### Bootstrap"
   ]
  },
  {
   "cell_type": "markdown",
   "metadata": {},
   "source": [
    "The bootstrap can be used to estimate the standard errors of the coefficients from a linear regression fit."
   ]
  }
 ],
 "metadata": {
  "kernelspec": {
   "display_name": "Python 3",
   "language": "python",
   "name": "python3"
  },
  "language_info": {
   "codemirror_mode": {
    "name": "ipython",
    "version": 3
   },
   "file_extension": ".py",
   "mimetype": "text/x-python",
   "name": "python",
   "nbconvert_exporter": "python",
   "pygments_lexer": "ipython3",
   "version": "3.7.5"
  }
 },
 "nbformat": 4,
 "nbformat_minor": 4
}
