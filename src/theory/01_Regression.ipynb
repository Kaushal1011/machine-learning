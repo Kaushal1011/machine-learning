{
 "cells": [
  {
   "cell_type": "markdown",
   "metadata": {},
   "source": [
    "# Statistical Learning\n",
    "---"
   ]
  },
  {
   "cell_type": "markdown",
   "metadata": {},
   "source": [
    "## Contents\n",
    "- [Linear Regression](#linreg)\n",
    "- [Simple Linear Regression](#simlinreg)"
   ]
  },
  {
   "cell_type": "markdown",
   "metadata": {},
   "source": [
    "<a name=\"linreg\"></a>\n",
    "## Linear Regression"
   ]
  },
  {
   "cell_type": "markdown",
   "metadata": {},
   "source": [
    "Consider the **Advertising** dataset. It displays *sales* of a particular product\n",
    "as a function of advertising budgets for *TV*, *radio* and *newspaper* media.\n",
    "Here are a few important questions that we might seek to address:\n",
    "- Is there a relationship between advertising budget and sales?\n",
    "- How strong is the relationship between advertising budget and sales?\n",
    "- Which media contribute to sales?\n",
    "- How accurately can we estimate the effect of each medium on sales?\n",
    "- How accurately can we predict future sales?\n",
    "- Is the relationship linear?\n",
    "- Is there synergy/interaction among the advertising media?"
   ]
  },
  {
   "cell_type": "markdown",
   "metadata": {},
   "source": [
    "<a name=\"simlinreg\"></a>\n",
    "## Simple Linear Regression"
   ]
  },
  {
   "cell_type": "markdown",
   "metadata": {},
   "source": [
    "It is a very straightforward approach for predicting a quantitative response Y on the basis of a single predictor variable $X$. It assumes that there is approximately a linear relationship between $X$ and $Y$. Mathematically, we can write this linear relationship as\n",
    "$$Y \\approx \\beta_{0} + \\beta_{1}X$$\n",
    "where $\\beta_{0}$ is the intercept and $\\beta_{1}$ is the slope term in linear model.\n",
    "They are known as model *coefficients* or *parameters*.\n",
    "Suppose, *sales* regresses onto *TV*, it can be written as\n",
    "$$sales \\approx \\beta_{0} + \\beta_{1} \\times TV$$\n",
    "Once we have our training data to produce estimates $\\hat{\\beta_{0}}$ and $\\hat{\\beta_{1}}$ for the model coefficients,\n",
    "we predict the future sales on the basis of particular value of TV advertising by computing\n",
    "$$\\hat{y} = \\hat{\\beta_{0}} + \\hat{\\beta_{1}}x$$\n",
    "where $\\hat{y}$ is the prediction of $Y$ on the basis of $X = x$.\n",
    "We use $\\hat{}$ to denote the estimated value for an unknown parameter or coefficient, or to denote the predicted value of the response."
   ]
  }
 ],
 "metadata": {
  "kernelspec": {
   "display_name": "R",
   "language": "R",
   "name": "ir"
  },
  "language_info": {
   "codemirror_mode": "r",
   "file_extension": ".r",
   "mimetype": "text/x-r-source",
   "name": "R",
   "pygments_lexer": "r",
   "version": "3.5.2"
  }
 },
 "nbformat": 4,
 "nbformat_minor": 4
}
