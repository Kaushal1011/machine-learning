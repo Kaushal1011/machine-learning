{
 "cells": [
  {
   "cell_type": "markdown",
   "metadata": {},
   "source": [
    "# Statistical Learning\n",
    "---"
   ]
  },
  {
   "cell_type": "markdown",
   "metadata": {},
   "source": [
    "## Contents\n",
    "- [Linear Regression](#linreg)\n",
    "- [Simple Linear Regression](#simlinreg)\n",
    "    - [Estimating the coefficients](#estcoef)\n",
    "    - [Assessing the Accuracy of the Coefficient Estimates](#assacc)\n",
    "    - [Assessing the Model Accuracy](#modelacc)"
   ]
  },
  {
   "cell_type": "markdown",
   "metadata": {},
   "source": [
    "<a name=\"linreg\"></a>\n",
    "## Linear Regression"
   ]
  },
  {
   "cell_type": "markdown",
   "metadata": {},
   "source": [
    "Consider the **Advertising** dataset. It displays *sales* of a particular product\n",
    "as a function of advertising budgets for *TV*, *radio* and *newspaper* media.\n",
    "Here are a few important questions that we might seek to address:\n",
    "- Is there a relationship between advertising budget and sales?\n",
    "- How strong is the relationship between advertising budget and sales?\n",
    "- Which media contribute to sales?\n",
    "- How accurately can we estimate the effect of each medium on sales?\n",
    "- How accurately can we predict future sales?\n",
    "- Is the relationship linear?\n",
    "- Is there synergy/interaction among the advertising media?"
   ]
  },
  {
   "cell_type": "markdown",
   "metadata": {},
   "source": [
    "<a name=\"simlinreg\"></a>\n",
    "## Simple Linear Regression"
   ]
  },
  {
   "cell_type": "markdown",
   "metadata": {},
   "source": [
    "It is a very straightforward approach for predicting a quantitative response Y on the basis of a single predictor variable $X$. It assumes that there is approximately a linear relationship between $X$ and $Y$. Mathematically, we can write this linear relationship as\n",
    "$$Y \\approx \\beta_{0} + \\beta_{1}X$$\n",
    "where $\\beta_{0}$ is the intercept and $\\beta_{1}$ is the slope term in linear model.\n",
    "They are known as model *coefficients* or *parameters*.\n",
    "Suppose, *sales* regresses onto *TV*, it can be written as\n",
    "$$sales \\approx \\beta_{0} + \\beta_{1} \\times TV$$\n",
    "Once we have our training data to produce estimates $\\hat{\\beta_{0}}$ and $\\hat{\\beta_{1}}$ for the model coefficients,\n",
    "we predict the future sales on the basis of particular value of TV advertising by computing\n",
    "$$\\hat{y} = \\hat{\\beta_{0}} + \\hat{\\beta_{1}}x$$\n",
    "where $\\hat{y}$ is the prediction of $Y$ on the basis of $X = x$.\n",
    "We use $\\hat{}$ to denote the estimated value for an unknown parameter or coefficient, or to denote the predicted value of the response."
   ]
  },
  {
   "cell_type": "markdown",
   "metadata": {},
   "source": [
    "<a name=\"estcoef\"></a>\n",
    "### Estimating the coefficients"
   ]
  },
  {
   "cell_type": "markdown",
   "metadata": {},
   "source": [
    "In practice, $\\beta_{0}$ and $\\beta_{1}$ are unknown.\n",
    "Our goal is to obtain coefficient estimates $\\hat{\\beta_{0}}$ and $\\hat{\\beta_{1}}$ such that the linear model\n",
    "$y_{i} \\approx \\hat{\\beta_{0}} + \\hat{\\beta_{1}}x_{i}$ for $i = 1, \\cdots, n$ fits the available data well.\n",
    "In other words, we want to find an intercept $\\hat{\\beta_{0}}$ and slope $\\hat{\\beta_{1}}$ such that the resulting line is as close as possible to the $n$ data points."
   ]
  },
  {
   "cell_type": "markdown",
   "metadata": {},
   "source": [
    "Let $\\hat{y_{i}} = \\hat{\\beta_{0}} + \\hat{\\beta_{1}}x_{i}$ be the prediction for $Y$ based on the $i^{th}$ value of $X$.\n",
    "Then $e_{i} = y_{i} - \\hat{y_{i}}$ represents the $i^{th}$ residual. Thus the *residual sum of squares (RSS)* is\n",
    "$$RSS = {e_{1}}^{2} + {e_{2}}^{2} + \\cdots + {e_{n}}^{2}$$\n",
    "This is equivalent to\n",
    "$$RSS = \\left(y_{1} - \\hat{\\beta_{0}} - \\hat{\\beta_{1}}x_{1}\\right)^{2} +\n",
    "        \\left(y_{2} - \\hat{\\beta_{0}} - \\hat{\\beta_{1}}x_{2}\\right)^{2} +\n",
    "        \\cdots +\n",
    "        \\left(y_{n} - \\hat{\\beta_{0}} - \\hat{\\beta_{1}}x_{n}\\right)^{2}$$\n",
    "The least squares approach chooses $\\hat{\\beta_{0}}$ and $\\hat{\\beta_{1}}$ to minimize the RSS which are given by\n",
    "$$\\hat{\\beta_{1}} = \\frac{\\sum_{i = 1}^{n}\\left(x_{i} - \\bar{x}\\right)\\left(y_{i} - \\bar{y}\\right)}\n",
    "                        {\\sum_{i = 1}^{n}\\left(x_{i} - \\bar{x}\\right)^{2}}$$\n",
    "\n",
    "$$\\hat{\\beta_{0}} = \\bar{y} - \\hat{\\beta_{1}}\\bar{x}$$\n",
    "where $$\\bar{y} = \\frac{1}{n}\\sum_{i = 1}^{n}y_{i}$$ and $$\\bar{x} = \\frac{1}{n}\\sum_{i = 1}^{n}x_{i}$$ are the sample means.\n",
    "This defines the *least squares coefficient estimates* for simple linear regression."
   ]
  },
  {
   "cell_type": "markdown",
   "metadata": {},
   "source": [
    "For example, let's consider the Advertising dataset (we will be using R language):"
   ]
  },
  {
   "cell_type": "code",
   "execution_count": 1,
   "metadata": {},
   "outputs": [
    {
     "data": {
      "text/html": [
       "<table>\n",
       "<caption>A data.frame: 200 × 5</caption>\n",
       "<thead>\n",
       "\t<tr><th scope=col>X</th><th scope=col>TV</th><th scope=col>radio</th><th scope=col>newspaper</th><th scope=col>sales</th></tr>\n",
       "\t<tr><th scope=col>&lt;int&gt;</th><th scope=col>&lt;dbl&gt;</th><th scope=col>&lt;dbl&gt;</th><th scope=col>&lt;dbl&gt;</th><th scope=col>&lt;dbl&gt;</th></tr>\n",
       "</thead>\n",
       "<tbody>\n",
       "\t<tr><td> 1</td><td>230.1</td><td>37.8</td><td> 69.2</td><td>22.1</td></tr>\n",
       "\t<tr><td> 2</td><td> 44.5</td><td>39.3</td><td> 45.1</td><td>10.4</td></tr>\n",
       "\t<tr><td> 3</td><td> 17.2</td><td>45.9</td><td> 69.3</td><td> 9.3</td></tr>\n",
       "\t<tr><td> 4</td><td>151.5</td><td>41.3</td><td> 58.5</td><td>18.5</td></tr>\n",
       "\t<tr><td> 5</td><td>180.8</td><td>10.8</td><td> 58.4</td><td>12.9</td></tr>\n",
       "\t<tr><td> 6</td><td>  8.7</td><td>48.9</td><td> 75.0</td><td> 7.2</td></tr>\n",
       "\t<tr><td> 7</td><td> 57.5</td><td>32.8</td><td> 23.5</td><td>11.8</td></tr>\n",
       "\t<tr><td> 8</td><td>120.2</td><td>19.6</td><td> 11.6</td><td>13.2</td></tr>\n",
       "\t<tr><td> 9</td><td>  8.6</td><td> 2.1</td><td>  1.0</td><td> 4.8</td></tr>\n",
       "\t<tr><td>10</td><td>199.8</td><td> 2.6</td><td> 21.2</td><td>10.6</td></tr>\n",
       "\t<tr><td>11</td><td> 66.1</td><td> 5.8</td><td> 24.2</td><td> 8.6</td></tr>\n",
       "\t<tr><td>12</td><td>214.7</td><td>24.0</td><td>  4.0</td><td>17.4</td></tr>\n",
       "\t<tr><td>13</td><td> 23.8</td><td>35.1</td><td> 65.9</td><td> 9.2</td></tr>\n",
       "\t<tr><td>14</td><td> 97.5</td><td> 7.6</td><td>  7.2</td><td> 9.7</td></tr>\n",
       "\t<tr><td>15</td><td>204.1</td><td>32.9</td><td> 46.0</td><td>19.0</td></tr>\n",
       "\t<tr><td>16</td><td>195.4</td><td>47.7</td><td> 52.9</td><td>22.4</td></tr>\n",
       "\t<tr><td>17</td><td> 67.8</td><td>36.6</td><td>114.0</td><td>12.5</td></tr>\n",
       "\t<tr><td>18</td><td>281.4</td><td>39.6</td><td> 55.8</td><td>24.4</td></tr>\n",
       "\t<tr><td>19</td><td> 69.2</td><td>20.5</td><td> 18.3</td><td>11.3</td></tr>\n",
       "\t<tr><td>20</td><td>147.3</td><td>23.9</td><td> 19.1</td><td>14.6</td></tr>\n",
       "\t<tr><td>21</td><td>218.4</td><td>27.7</td><td> 53.4</td><td>18.0</td></tr>\n",
       "\t<tr><td>22</td><td>237.4</td><td> 5.1</td><td> 23.5</td><td>12.5</td></tr>\n",
       "\t<tr><td>23</td><td> 13.2</td><td>15.9</td><td> 49.6</td><td> 5.6</td></tr>\n",
       "\t<tr><td>24</td><td>228.3</td><td>16.9</td><td> 26.2</td><td>15.5</td></tr>\n",
       "\t<tr><td>25</td><td> 62.3</td><td>12.6</td><td> 18.3</td><td> 9.7</td></tr>\n",
       "\t<tr><td>26</td><td>262.9</td><td> 3.5</td><td> 19.5</td><td>12.0</td></tr>\n",
       "\t<tr><td>27</td><td>142.9</td><td>29.3</td><td> 12.6</td><td>15.0</td></tr>\n",
       "\t<tr><td>28</td><td>240.1</td><td>16.7</td><td> 22.9</td><td>15.9</td></tr>\n",
       "\t<tr><td>29</td><td>248.8</td><td>27.1</td><td> 22.9</td><td>18.9</td></tr>\n",
       "\t<tr><td>30</td><td> 70.6</td><td>16.0</td><td> 40.8</td><td>10.5</td></tr>\n",
       "\t<tr><td>⋮</td><td>⋮</td><td>⋮</td><td>⋮</td><td>⋮</td></tr>\n",
       "\t<tr><td>171</td><td> 50.0</td><td>11.6</td><td>18.4</td><td> 8.4</td></tr>\n",
       "\t<tr><td>172</td><td>164.5</td><td>20.9</td><td>47.4</td><td>14.5</td></tr>\n",
       "\t<tr><td>173</td><td> 19.6</td><td>20.1</td><td>17.0</td><td> 7.6</td></tr>\n",
       "\t<tr><td>174</td><td>168.4</td><td> 7.1</td><td>12.8</td><td>11.7</td></tr>\n",
       "\t<tr><td>175</td><td>222.4</td><td> 3.4</td><td>13.1</td><td>11.5</td></tr>\n",
       "\t<tr><td>176</td><td>276.9</td><td>48.9</td><td>41.8</td><td>27.0</td></tr>\n",
       "\t<tr><td>177</td><td>248.4</td><td>30.2</td><td>20.3</td><td>20.2</td></tr>\n",
       "\t<tr><td>178</td><td>170.2</td><td> 7.8</td><td>35.2</td><td>11.7</td></tr>\n",
       "\t<tr><td>179</td><td>276.7</td><td> 2.3</td><td>23.7</td><td>11.8</td></tr>\n",
       "\t<tr><td>180</td><td>165.6</td><td>10.0</td><td>17.6</td><td>12.6</td></tr>\n",
       "\t<tr><td>181</td><td>156.6</td><td> 2.6</td><td> 8.3</td><td>10.5</td></tr>\n",
       "\t<tr><td>182</td><td>218.5</td><td> 5.4</td><td>27.4</td><td>12.2</td></tr>\n",
       "\t<tr><td>183</td><td> 56.2</td><td> 5.7</td><td>29.7</td><td> 8.7</td></tr>\n",
       "\t<tr><td>184</td><td>287.6</td><td>43.0</td><td>71.8</td><td>26.2</td></tr>\n",
       "\t<tr><td>185</td><td>253.8</td><td>21.3</td><td>30.0</td><td>17.6</td></tr>\n",
       "\t<tr><td>186</td><td>205.0</td><td>45.1</td><td>19.6</td><td>22.6</td></tr>\n",
       "\t<tr><td>187</td><td>139.5</td><td> 2.1</td><td>26.6</td><td>10.3</td></tr>\n",
       "\t<tr><td>188</td><td>191.1</td><td>28.7</td><td>18.2</td><td>17.3</td></tr>\n",
       "\t<tr><td>189</td><td>286.0</td><td>13.9</td><td> 3.7</td><td>15.9</td></tr>\n",
       "\t<tr><td>190</td><td> 18.7</td><td>12.1</td><td>23.4</td><td> 6.7</td></tr>\n",
       "\t<tr><td>191</td><td> 39.5</td><td>41.1</td><td> 5.8</td><td>10.8</td></tr>\n",
       "\t<tr><td>192</td><td> 75.5</td><td>10.8</td><td> 6.0</td><td> 9.9</td></tr>\n",
       "\t<tr><td>193</td><td> 17.2</td><td> 4.1</td><td>31.6</td><td> 5.9</td></tr>\n",
       "\t<tr><td>194</td><td>166.8</td><td>42.0</td><td> 3.6</td><td>19.6</td></tr>\n",
       "\t<tr><td>195</td><td>149.7</td><td>35.6</td><td> 6.0</td><td>17.3</td></tr>\n",
       "\t<tr><td>196</td><td> 38.2</td><td> 3.7</td><td>13.8</td><td> 7.6</td></tr>\n",
       "\t<tr><td>197</td><td> 94.2</td><td> 4.9</td><td> 8.1</td><td> 9.7</td></tr>\n",
       "\t<tr><td>198</td><td>177.0</td><td> 9.3</td><td> 6.4</td><td>12.8</td></tr>\n",
       "\t<tr><td>199</td><td>283.6</td><td>42.0</td><td>66.2</td><td>25.5</td></tr>\n",
       "\t<tr><td>200</td><td>232.1</td><td> 8.6</td><td> 8.7</td><td>13.4</td></tr>\n",
       "</tbody>\n",
       "</table>\n"
      ],
      "text/latex": [
       "A data.frame: 200 × 5\n",
       "\\begin{tabular}{r|lllll}\n",
       " X & TV & radio & newspaper & sales\\\\\n",
       " <int> & <dbl> & <dbl> & <dbl> & <dbl>\\\\\n",
       "\\hline\n",
       "\t  1 & 230.1 & 37.8 &  69.2 & 22.1\\\\\n",
       "\t  2 &  44.5 & 39.3 &  45.1 & 10.4\\\\\n",
       "\t  3 &  17.2 & 45.9 &  69.3 &  9.3\\\\\n",
       "\t  4 & 151.5 & 41.3 &  58.5 & 18.5\\\\\n",
       "\t  5 & 180.8 & 10.8 &  58.4 & 12.9\\\\\n",
       "\t  6 &   8.7 & 48.9 &  75.0 &  7.2\\\\\n",
       "\t  7 &  57.5 & 32.8 &  23.5 & 11.8\\\\\n",
       "\t  8 & 120.2 & 19.6 &  11.6 & 13.2\\\\\n",
       "\t  9 &   8.6 &  2.1 &   1.0 &  4.8\\\\\n",
       "\t 10 & 199.8 &  2.6 &  21.2 & 10.6\\\\\n",
       "\t 11 &  66.1 &  5.8 &  24.2 &  8.6\\\\\n",
       "\t 12 & 214.7 & 24.0 &   4.0 & 17.4\\\\\n",
       "\t 13 &  23.8 & 35.1 &  65.9 &  9.2\\\\\n",
       "\t 14 &  97.5 &  7.6 &   7.2 &  9.7\\\\\n",
       "\t 15 & 204.1 & 32.9 &  46.0 & 19.0\\\\\n",
       "\t 16 & 195.4 & 47.7 &  52.9 & 22.4\\\\\n",
       "\t 17 &  67.8 & 36.6 & 114.0 & 12.5\\\\\n",
       "\t 18 & 281.4 & 39.6 &  55.8 & 24.4\\\\\n",
       "\t 19 &  69.2 & 20.5 &  18.3 & 11.3\\\\\n",
       "\t 20 & 147.3 & 23.9 &  19.1 & 14.6\\\\\n",
       "\t 21 & 218.4 & 27.7 &  53.4 & 18.0\\\\\n",
       "\t 22 & 237.4 &  5.1 &  23.5 & 12.5\\\\\n",
       "\t 23 &  13.2 & 15.9 &  49.6 &  5.6\\\\\n",
       "\t 24 & 228.3 & 16.9 &  26.2 & 15.5\\\\\n",
       "\t 25 &  62.3 & 12.6 &  18.3 &  9.7\\\\\n",
       "\t 26 & 262.9 &  3.5 &  19.5 & 12.0\\\\\n",
       "\t 27 & 142.9 & 29.3 &  12.6 & 15.0\\\\\n",
       "\t 28 & 240.1 & 16.7 &  22.9 & 15.9\\\\\n",
       "\t 29 & 248.8 & 27.1 &  22.9 & 18.9\\\\\n",
       "\t 30 &  70.6 & 16.0 &  40.8 & 10.5\\\\\n",
       "\t ⋮ & ⋮ & ⋮ & ⋮ & ⋮\\\\\n",
       "\t 171 &  50.0 & 11.6 & 18.4 &  8.4\\\\\n",
       "\t 172 & 164.5 & 20.9 & 47.4 & 14.5\\\\\n",
       "\t 173 &  19.6 & 20.1 & 17.0 &  7.6\\\\\n",
       "\t 174 & 168.4 &  7.1 & 12.8 & 11.7\\\\\n",
       "\t 175 & 222.4 &  3.4 & 13.1 & 11.5\\\\\n",
       "\t 176 & 276.9 & 48.9 & 41.8 & 27.0\\\\\n",
       "\t 177 & 248.4 & 30.2 & 20.3 & 20.2\\\\\n",
       "\t 178 & 170.2 &  7.8 & 35.2 & 11.7\\\\\n",
       "\t 179 & 276.7 &  2.3 & 23.7 & 11.8\\\\\n",
       "\t 180 & 165.6 & 10.0 & 17.6 & 12.6\\\\\n",
       "\t 181 & 156.6 &  2.6 &  8.3 & 10.5\\\\\n",
       "\t 182 & 218.5 &  5.4 & 27.4 & 12.2\\\\\n",
       "\t 183 &  56.2 &  5.7 & 29.7 &  8.7\\\\\n",
       "\t 184 & 287.6 & 43.0 & 71.8 & 26.2\\\\\n",
       "\t 185 & 253.8 & 21.3 & 30.0 & 17.6\\\\\n",
       "\t 186 & 205.0 & 45.1 & 19.6 & 22.6\\\\\n",
       "\t 187 & 139.5 &  2.1 & 26.6 & 10.3\\\\\n",
       "\t 188 & 191.1 & 28.7 & 18.2 & 17.3\\\\\n",
       "\t 189 & 286.0 & 13.9 &  3.7 & 15.9\\\\\n",
       "\t 190 &  18.7 & 12.1 & 23.4 &  6.7\\\\\n",
       "\t 191 &  39.5 & 41.1 &  5.8 & 10.8\\\\\n",
       "\t 192 &  75.5 & 10.8 &  6.0 &  9.9\\\\\n",
       "\t 193 &  17.2 &  4.1 & 31.6 &  5.9\\\\\n",
       "\t 194 & 166.8 & 42.0 &  3.6 & 19.6\\\\\n",
       "\t 195 & 149.7 & 35.6 &  6.0 & 17.3\\\\\n",
       "\t 196 &  38.2 &  3.7 & 13.8 &  7.6\\\\\n",
       "\t 197 &  94.2 &  4.9 &  8.1 &  9.7\\\\\n",
       "\t 198 & 177.0 &  9.3 &  6.4 & 12.8\\\\\n",
       "\t 199 & 283.6 & 42.0 & 66.2 & 25.5\\\\\n",
       "\t 200 & 232.1 &  8.6 &  8.7 & 13.4\\\\\n",
       "\\end{tabular}\n"
      ],
      "text/markdown": [
       "\n",
       "A data.frame: 200 × 5\n",
       "\n",
       "| X &lt;int&gt; | TV &lt;dbl&gt; | radio &lt;dbl&gt; | newspaper &lt;dbl&gt; | sales &lt;dbl&gt; |\n",
       "|---|---|---|---|---|\n",
       "|  1 | 230.1 | 37.8 |  69.2 | 22.1 |\n",
       "|  2 |  44.5 | 39.3 |  45.1 | 10.4 |\n",
       "|  3 |  17.2 | 45.9 |  69.3 |  9.3 |\n",
       "|  4 | 151.5 | 41.3 |  58.5 | 18.5 |\n",
       "|  5 | 180.8 | 10.8 |  58.4 | 12.9 |\n",
       "|  6 |   8.7 | 48.9 |  75.0 |  7.2 |\n",
       "|  7 |  57.5 | 32.8 |  23.5 | 11.8 |\n",
       "|  8 | 120.2 | 19.6 |  11.6 | 13.2 |\n",
       "|  9 |   8.6 |  2.1 |   1.0 |  4.8 |\n",
       "| 10 | 199.8 |  2.6 |  21.2 | 10.6 |\n",
       "| 11 |  66.1 |  5.8 |  24.2 |  8.6 |\n",
       "| 12 | 214.7 | 24.0 |   4.0 | 17.4 |\n",
       "| 13 |  23.8 | 35.1 |  65.9 |  9.2 |\n",
       "| 14 |  97.5 |  7.6 |   7.2 |  9.7 |\n",
       "| 15 | 204.1 | 32.9 |  46.0 | 19.0 |\n",
       "| 16 | 195.4 | 47.7 |  52.9 | 22.4 |\n",
       "| 17 |  67.8 | 36.6 | 114.0 | 12.5 |\n",
       "| 18 | 281.4 | 39.6 |  55.8 | 24.4 |\n",
       "| 19 |  69.2 | 20.5 |  18.3 | 11.3 |\n",
       "| 20 | 147.3 | 23.9 |  19.1 | 14.6 |\n",
       "| 21 | 218.4 | 27.7 |  53.4 | 18.0 |\n",
       "| 22 | 237.4 |  5.1 |  23.5 | 12.5 |\n",
       "| 23 |  13.2 | 15.9 |  49.6 |  5.6 |\n",
       "| 24 | 228.3 | 16.9 |  26.2 | 15.5 |\n",
       "| 25 |  62.3 | 12.6 |  18.3 |  9.7 |\n",
       "| 26 | 262.9 |  3.5 |  19.5 | 12.0 |\n",
       "| 27 | 142.9 | 29.3 |  12.6 | 15.0 |\n",
       "| 28 | 240.1 | 16.7 |  22.9 | 15.9 |\n",
       "| 29 | 248.8 | 27.1 |  22.9 | 18.9 |\n",
       "| 30 |  70.6 | 16.0 |  40.8 | 10.5 |\n",
       "| ⋮ | ⋮ | ⋮ | ⋮ | ⋮ |\n",
       "| 171 |  50.0 | 11.6 | 18.4 |  8.4 |\n",
       "| 172 | 164.5 | 20.9 | 47.4 | 14.5 |\n",
       "| 173 |  19.6 | 20.1 | 17.0 |  7.6 |\n",
       "| 174 | 168.4 |  7.1 | 12.8 | 11.7 |\n",
       "| 175 | 222.4 |  3.4 | 13.1 | 11.5 |\n",
       "| 176 | 276.9 | 48.9 | 41.8 | 27.0 |\n",
       "| 177 | 248.4 | 30.2 | 20.3 | 20.2 |\n",
       "| 178 | 170.2 |  7.8 | 35.2 | 11.7 |\n",
       "| 179 | 276.7 |  2.3 | 23.7 | 11.8 |\n",
       "| 180 | 165.6 | 10.0 | 17.6 | 12.6 |\n",
       "| 181 | 156.6 |  2.6 |  8.3 | 10.5 |\n",
       "| 182 | 218.5 |  5.4 | 27.4 | 12.2 |\n",
       "| 183 |  56.2 |  5.7 | 29.7 |  8.7 |\n",
       "| 184 | 287.6 | 43.0 | 71.8 | 26.2 |\n",
       "| 185 | 253.8 | 21.3 | 30.0 | 17.6 |\n",
       "| 186 | 205.0 | 45.1 | 19.6 | 22.6 |\n",
       "| 187 | 139.5 |  2.1 | 26.6 | 10.3 |\n",
       "| 188 | 191.1 | 28.7 | 18.2 | 17.3 |\n",
       "| 189 | 286.0 | 13.9 |  3.7 | 15.9 |\n",
       "| 190 |  18.7 | 12.1 | 23.4 |  6.7 |\n",
       "| 191 |  39.5 | 41.1 |  5.8 | 10.8 |\n",
       "| 192 |  75.5 | 10.8 |  6.0 |  9.9 |\n",
       "| 193 |  17.2 |  4.1 | 31.6 |  5.9 |\n",
       "| 194 | 166.8 | 42.0 |  3.6 | 19.6 |\n",
       "| 195 | 149.7 | 35.6 |  6.0 | 17.3 |\n",
       "| 196 |  38.2 |  3.7 | 13.8 |  7.6 |\n",
       "| 197 |  94.2 |  4.9 |  8.1 |  9.7 |\n",
       "| 198 | 177.0 |  9.3 |  6.4 | 12.8 |\n",
       "| 199 | 283.6 | 42.0 | 66.2 | 25.5 |\n",
       "| 200 | 232.1 |  8.6 |  8.7 | 13.4 |\n",
       "\n"
      ],
      "text/plain": [
       "    X   TV    radio newspaper sales\n",
       "1    1  230.1 37.8   69.2     22.1 \n",
       "2    2   44.5 39.3   45.1     10.4 \n",
       "3    3   17.2 45.9   69.3      9.3 \n",
       "4    4  151.5 41.3   58.5     18.5 \n",
       "5    5  180.8 10.8   58.4     12.9 \n",
       "6    6    8.7 48.9   75.0      7.2 \n",
       "7    7   57.5 32.8   23.5     11.8 \n",
       "8    8  120.2 19.6   11.6     13.2 \n",
       "9    9    8.6  2.1    1.0      4.8 \n",
       "10  10  199.8  2.6   21.2     10.6 \n",
       "11  11   66.1  5.8   24.2      8.6 \n",
       "12  12  214.7 24.0    4.0     17.4 \n",
       "13  13   23.8 35.1   65.9      9.2 \n",
       "14  14   97.5  7.6    7.2      9.7 \n",
       "15  15  204.1 32.9   46.0     19.0 \n",
       "16  16  195.4 47.7   52.9     22.4 \n",
       "17  17   67.8 36.6  114.0     12.5 \n",
       "18  18  281.4 39.6   55.8     24.4 \n",
       "19  19   69.2 20.5   18.3     11.3 \n",
       "20  20  147.3 23.9   19.1     14.6 \n",
       "21  21  218.4 27.7   53.4     18.0 \n",
       "22  22  237.4  5.1   23.5     12.5 \n",
       "23  23   13.2 15.9   49.6      5.6 \n",
       "24  24  228.3 16.9   26.2     15.5 \n",
       "25  25   62.3 12.6   18.3      9.7 \n",
       "26  26  262.9  3.5   19.5     12.0 \n",
       "27  27  142.9 29.3   12.6     15.0 \n",
       "28  28  240.1 16.7   22.9     15.9 \n",
       "29  29  248.8 27.1   22.9     18.9 \n",
       "30  30   70.6 16.0   40.8     10.5 \n",
       "⋮   ⋮   ⋮     ⋮     ⋮         ⋮    \n",
       "171 171  50.0 11.6  18.4       8.4 \n",
       "172 172 164.5 20.9  47.4      14.5 \n",
       "173 173  19.6 20.1  17.0       7.6 \n",
       "174 174 168.4  7.1  12.8      11.7 \n",
       "175 175 222.4  3.4  13.1      11.5 \n",
       "176 176 276.9 48.9  41.8      27.0 \n",
       "177 177 248.4 30.2  20.3      20.2 \n",
       "178 178 170.2  7.8  35.2      11.7 \n",
       "179 179 276.7  2.3  23.7      11.8 \n",
       "180 180 165.6 10.0  17.6      12.6 \n",
       "181 181 156.6  2.6   8.3      10.5 \n",
       "182 182 218.5  5.4  27.4      12.2 \n",
       "183 183  56.2  5.7  29.7       8.7 \n",
       "184 184 287.6 43.0  71.8      26.2 \n",
       "185 185 253.8 21.3  30.0      17.6 \n",
       "186 186 205.0 45.1  19.6      22.6 \n",
       "187 187 139.5  2.1  26.6      10.3 \n",
       "188 188 191.1 28.7  18.2      17.3 \n",
       "189 189 286.0 13.9   3.7      15.9 \n",
       "190 190  18.7 12.1  23.4       6.7 \n",
       "191 191  39.5 41.1   5.8      10.8 \n",
       "192 192  75.5 10.8   6.0       9.9 \n",
       "193 193  17.2  4.1  31.6       5.9 \n",
       "194 194 166.8 42.0   3.6      19.6 \n",
       "195 195 149.7 35.6   6.0      17.3 \n",
       "196 196  38.2  3.7  13.8       7.6 \n",
       "197 197  94.2  4.9   8.1       9.7 \n",
       "198 198 177.0  9.3   6.4      12.8 \n",
       "199 199 283.6 42.0  66.2      25.5 \n",
       "200 200 232.1  8.6   8.7      13.4 "
      ]
     },
     "metadata": {},
     "output_type": "display_data"
    }
   ],
   "source": [
    "adv <- read.csv('../../datasets/Advertising.csv')\n",
    "adv"
   ]
  },
  {
   "cell_type": "markdown",
   "metadata": {},
   "source": [
    "We can drop the first column *X* as it consists only the indexes and is of no particular use to us"
   ]
  },
  {
   "cell_type": "code",
   "execution_count": 2,
   "metadata": {},
   "outputs": [
    {
     "data": {
      "text/html": [
       "<table>\n",
       "<caption>A data.frame: 6 × 4</caption>\n",
       "<thead>\n",
       "\t<tr><th scope=col>TV</th><th scope=col>radio</th><th scope=col>newspaper</th><th scope=col>sales</th></tr>\n",
       "\t<tr><th scope=col>&lt;dbl&gt;</th><th scope=col>&lt;dbl&gt;</th><th scope=col>&lt;dbl&gt;</th><th scope=col>&lt;dbl&gt;</th></tr>\n",
       "</thead>\n",
       "<tbody>\n",
       "\t<tr><td>230.1</td><td>37.8</td><td>69.2</td><td>22.1</td></tr>\n",
       "\t<tr><td> 44.5</td><td>39.3</td><td>45.1</td><td>10.4</td></tr>\n",
       "\t<tr><td> 17.2</td><td>45.9</td><td>69.3</td><td> 9.3</td></tr>\n",
       "\t<tr><td>151.5</td><td>41.3</td><td>58.5</td><td>18.5</td></tr>\n",
       "\t<tr><td>180.8</td><td>10.8</td><td>58.4</td><td>12.9</td></tr>\n",
       "\t<tr><td>  8.7</td><td>48.9</td><td>75.0</td><td> 7.2</td></tr>\n",
       "</tbody>\n",
       "</table>\n"
      ],
      "text/latex": [
       "A data.frame: 6 × 4\n",
       "\\begin{tabular}{r|llll}\n",
       " TV & radio & newspaper & sales\\\\\n",
       " <dbl> & <dbl> & <dbl> & <dbl>\\\\\n",
       "\\hline\n",
       "\t 230.1 & 37.8 & 69.2 & 22.1\\\\\n",
       "\t  44.5 & 39.3 & 45.1 & 10.4\\\\\n",
       "\t  17.2 & 45.9 & 69.3 &  9.3\\\\\n",
       "\t 151.5 & 41.3 & 58.5 & 18.5\\\\\n",
       "\t 180.8 & 10.8 & 58.4 & 12.9\\\\\n",
       "\t   8.7 & 48.9 & 75.0 &  7.2\\\\\n",
       "\\end{tabular}\n"
      ],
      "text/markdown": [
       "\n",
       "A data.frame: 6 × 4\n",
       "\n",
       "| TV &lt;dbl&gt; | radio &lt;dbl&gt; | newspaper &lt;dbl&gt; | sales &lt;dbl&gt; |\n",
       "|---|---|---|---|\n",
       "| 230.1 | 37.8 | 69.2 | 22.1 |\n",
       "|  44.5 | 39.3 | 45.1 | 10.4 |\n",
       "|  17.2 | 45.9 | 69.3 |  9.3 |\n",
       "| 151.5 | 41.3 | 58.5 | 18.5 |\n",
       "| 180.8 | 10.8 | 58.4 | 12.9 |\n",
       "|   8.7 | 48.9 | 75.0 |  7.2 |\n",
       "\n"
      ],
      "text/plain": [
       "  TV    radio newspaper sales\n",
       "1 230.1 37.8  69.2      22.1 \n",
       "2  44.5 39.3  45.1      10.4 \n",
       "3  17.2 45.9  69.3       9.3 \n",
       "4 151.5 41.3  58.5      18.5 \n",
       "5 180.8 10.8  58.4      12.9 \n",
       "6   8.7 48.9  75.0       7.2 "
      ]
     },
     "metadata": {},
     "output_type": "display_data"
    }
   ],
   "source": [
    "adv <- adv[-1]\n",
    "head(adv)"
   ]
  },
  {
   "cell_type": "markdown",
   "metadata": {},
   "source": [
    "Now, we want to regress *sales* over *TV* considering the linear relation as\n",
    "$$sales \\approx \\hat{\\beta_{0}} + \\hat{\\beta_{1}} \\times TV$$\n",
    "$\\hat{\\beta_{0}}$ and $\\hat{\\beta_{1}}$ can be calculated as follows:"
   ]
  },
  {
   "cell_type": "code",
   "execution_count": 3,
   "metadata": {},
   "outputs": [
    {
     "data": {
      "text/html": [
       "<span style=white-space:pre-wrap>'b0(intercept) ==  7.03259354912769'</span>"
      ],
      "text/latex": [
       "'b0(intercept) ==  7.03259354912769'"
      ],
      "text/markdown": [
       "<span style=white-space:pre-wrap>'b0(intercept) ==  7.03259354912769'</span>"
      ],
      "text/plain": [
       "[1] \"b0(intercept) ==  7.03259354912769\""
      ]
     },
     "metadata": {},
     "output_type": "display_data"
    },
    {
     "data": {
      "text/html": [
       "<span style=white-space:pre-wrap>'b1(slope) ==  0.0475366404330197'</span>"
      ],
      "text/latex": [
       "'b1(slope) ==  0.0475366404330197'"
      ],
      "text/markdown": [
       "<span style=white-space:pre-wrap>'b1(slope) ==  0.0475366404330197'</span>"
      ],
      "text/plain": [
       "[1] \"b1(slope) ==  0.0475366404330197\""
      ]
     },
     "metadata": {},
     "output_type": "display_data"
    }
   ],
   "source": [
    "y <- adv$sales\n",
    "x <- adv$TV\n",
    "y.bar <- mean(y)\n",
    "x.bar <- mean(x)\n",
    "\n",
    "b1 <- sum((x - x.bar) * (y - y.bar)) / sum((x - x.bar)**2)\n",
    "b0 <- y.bar - b1 * x.bar\n",
    "\n",
    "paste('b0(intercept) == ', b0)\n",
    "paste('b1(slope) == ', b1)"
   ]
  },
  {
   "cell_type": "markdown",
   "metadata": {},
   "source": [
    "Here, *sales* are in *thousands of units* and *TV* refers to advertising budget in *thousands of dollars*.\n",
    "\n",
    "Here, $\\hat{\\beta_{0}} = 7.03$ and $\\hat{\\beta_{1}} = 0.0475$.\n",
    "In other words, according to this approximation, an additional \\$1000 spent on *TV* advertising is associated with selling approximately 47.5 additional units of product. Spending \\$0 on *TV* advertising will result in sale of 7030 units of product."
   ]
  },
  {
   "cell_type": "code",
   "execution_count": 4,
   "metadata": {},
   "outputs": [
    {
     "data": {
      "image/png": "[encoded data removed]",
      "text/plain": [
       "Plot with title “sales vs. TV”"
      ]
     },
     "metadata": {},
     "output_type": "display_data"
    }
   ],
   "source": [
    "plot(x, y, pch = 19, col = 'blue', main ='sales vs. TV', xlab = 'TV', ylab = 'sales')\n",
    "abline(b0, b1, lwd = 2, col = 'red')\n",
    "grid()"
   ]
  },
  {
   "cell_type": "markdown",
   "metadata": {},
   "source": [
    "The *residual sum of squares (RSS)* is"
   ]
  },
  {
   "cell_type": "code",
   "execution_count": 5,
   "metadata": {},
   "outputs": [
    {
     "name": "stdout",
     "output_type": "stream",
     "text": [
      "[1] 2102.531\n"
     ]
    }
   ],
   "source": [
    "rss <- sum((y - b0 - b1 * x)**2)\n",
    "print(rss)"
   ]
  },
  {
   "cell_type": "markdown",
   "metadata": {},
   "source": [
    "<a name=\"assacc\"></a>\n",
    "### Assessing the Accuracy of the Coefficient Estimates"
   ]
  },
  {
   "cell_type": "markdown",
   "metadata": {},
   "source": [
    "We assume that the true relationship between $X$ and $Y$ takes the form $Y = f\\left(X\\right) + \\epsilon$ for some unknown function $f$, where $\\epsilon$ is a mean-zero random error term. If $f$ is to be approximated by a linear function, then we can write this relationship as:\n",
    "$$Y = \\beta_{0} + \\beta_{1}X + \\epsilon$$\n",
    "\n",
    "Here $\\beta_{0}$ is the intercept term — that is, the expected value of $Y$ when $X = 0$,\n",
    "and $\\beta_{1}$ is the slope — the average increase in $Y$ associated with a one-unit\n",
    "increase in $X$. The error term is a catch-all for what we miss with this\n",
    "simple model: the true relationship is probably not linear, there may be\n",
    "other variables that cause variation in $Y$, and there may be measurement\n",
    "error. We typically assume that the error term is independent of $X$."
   ]
  },
  {
   "cell_type": "markdown",
   "metadata": {},
   "source": [
    "The model defines the *population regression line*, which\n",
    "is the best linear approximation to the true relationship between $X$ and\n",
    "$Y$. The least squares regression coefficient estimates characterize the\n",
    "*least squares line*.\n",
    "\n",
    "The true relationship is generally not known for\n",
    "real data, but the least squares line can always be computed using the\n",
    "coefficient estimates. In real applications,\n",
    "we have access to a set of observations from which we can compute the\n",
    "least squares line; however, the population regression line is unobserved.\n",
    "\n",
    "Different data sets generated from the same true\n",
    "model result in slightly different least squares lines, but the unobserved\n",
    "population regression line does not change.\n",
    "\n",
    "At first glance, the difference between the population regression line and\n",
    "the least squares line may seem subtle and confusing. We only have one\n",
    "data set, and so what does it mean that two different lines describe the\n",
    "relationship between the predictor and the response? Fundamentally, the\n",
    "concept of these two lines is a natural extension of the standard statistical\n",
    "approach of using information from a sample to estimate characteristics of a\n",
    "large population. For example, suppose that we are interested in knowing\n",
    "the population mean $\\mu$ of some random variable $Y$. Unfortunately, $\\mu$ is\n",
    "unknown, but we do have access to $n$ observations from $Y$, which we can\n",
    "write as $y_{1}, y_{2}, \\cdots, y_{n}$, and which we can use to estimate $\\mu$.\n",
    "A reasonable estimate is $\\mu = \\bar{y}$, where\n",
    "$\\bar{y} = \\frac{1}{n}\\sum_{i=1}^{n}y_{i}$ is the sample mean. The sample\n",
    "mean and the population mean are different, but in general the sample\n",
    "mean will provide a good estimate of the population mean. In the same\n",
    "way, the unknown coefficients $\\beta_{0}$ and $\\beta_{1}$ in linear regression define the\n",
    "population regression line. We seek to estimate these unknown coefficients\n",
    "using $\\hat{\\beta_{0}}$ and $\\hat{\\beta_{1}}$. These coefficient estimates define the least\n",
    "squares line.\n",
    "\n",
    "The analogy between linear regression and estimation of the mean of a\n",
    "random variable is an apt one based on the concept of *bias*. If we use the\n",
    "sample mean $\\hat{\\mu}$ to estimate $\\mu$, this estimate is *unbiased*, in the sense that\n",
    "on average, we expect $\\hat{\\mu}$ to equal $\\mu$. What exactly does this mean? It means\n",
    "that on the basis of one particular set of observations $y_{1}, \\cdots, y_{n}$, $\\hat{\\mu}$ might\n",
    "overestimate $\\mu$, and on the basis of another set of observations, $\\hat{\\mu}$ might\n",
    "underestimate $\\mu$. But if we could average a huge number of estimates of\n",
    "$\\mu$ obtained from a huge number of sets of observations, then this average\n",
    "would *exactly* equal $\\mu$. Hence, an unbiased estimator does not *systematically*\n",
    "over- or under-estimate the true parameter. The property of unbiasedness\n",
    "holds for the least squares coefficient estimates.\n",
    "If we estimate $\\beta_{0}$ and $\\beta_{1}$ on the basis of a particular data set, then our\n",
    "estimates won’t be exactly equal to $\\beta_{0}$ and $\\beta_{1}$. But if we could average\n",
    "the estimates obtained over a huge number of data sets, then the average\n",
    "of these estimates would be spot on."
   ]
  },
  {
   "cell_type": "markdown",
   "metadata": {},
   "source": [
    "We continue the analogy with the estimation of the population mean\n",
    "$\\mu$ of a random variable $Y$. A natural question is as follows: how accurate\n",
    "is the sample mean $\\hat{\\mu}$ as an estimate of $\\mu$?\n",
    "We have established that the  average of $\\hat{\\mu}$'s over many data sets will be very close to $\\mu$, but that a\n",
    "single estimate $\\hat{\\mu}$ may be a substantial underestimate or overestimate of $\\mu$.\n",
    "How far off will that single estimate of $\\hat{\\mu}$ be?\n",
    "This is computed by *standard error* of $\\hat{\\mu}$\n",
    "\n",
    "$$Var\\left(\\hat{\\mu}\\right) = SE\\left(\\hat{\\mu}\\right)^{2} = \\frac{\\sigma^{2}}{n}$$\n",
    "\n",
    "where $\\sigma$ is the *standard deviation* of each $y_{i}$ of $Y$.\n",
    "Roughly speaking, the standard error tells us the average amount that this\n",
    "estimate $\\hat{\\mu}$ differs from the actual value of $\\mu$. Also, the deviation shrinks with $n$.\n",
    "\n",
    "Similarly,\n",
    "$$SE\\left(\\hat{\\beta_{0}}\\right)^{2} = \\sigma^{2}\\left[\\frac{1}{n} + \\frac{\\bar{x}^{2}}{\\sum_{i=1}^{n}\\left(x_{i} - \\bar{x}\\right)^{2}}\\right]$$\n",
    "\n",
    "$$SE\\left(\\hat{\\beta_{1}}\\right)^{2} = \\frac{\\sigma^{2}}{\\sum_{i=1}^{n}\\left(x_{i} - \\bar{x}\\right)^{2}}$$\n",
    "\n",
    "where $\\sigma^{2} = Var\\left(\\epsilon\\right)$.\n",
    "$SE\\left(\\hat{\\beta_{1}}\\right)$ is smaller when $x_{i}$ is more spread out.\n",
    "Intuitively, we have more $leverage$ to estimate a slope when this is the case.\n",
    "\n",
    "The estimate of $\\sigma$ is known as *residual standard error (RSE)*\n",
    "$$RSE = \\sqrt{\\frac{RSS}{n - 2}}$$\n",
    "\n",
    "Strictly speaking, when $\\sigma^{2}$ is estimated from the\n",
    "data, we should write $\\hat{SE}\\left(\\hat{\\beta_{1}}\\right)$ to indicate that an estimate has been made, but for simplicity of notation we will drop this extra “hat”."
   ]
  },
  {
   "cell_type": "code",
   "execution_count": 6,
   "metadata": {},
   "outputs": [
    {
     "name": "stdout",
     "output_type": "stream",
     "text": [
      "[1] 3.258656\n"
     ]
    }
   ],
   "source": [
    "rse <- sqrt(rss / (dim(adv)[1] - 2))\n",
    "print(rse)"
   ]
  },
  {
   "cell_type": "markdown",
   "metadata": {},
   "source": [
    "Standard errors can be used to compute *confidence intervals*. A 95%\n",
    "confidence interval is defined as a range of values such that with 95%\n",
    "probability, the range will contain the true unknown value of the parameter.\n",
    "The range is defined in terms of lower and upper limits computed from the\n",
    "sample of data. For linear regression, 95% confidence interval of $x$ takes\n",
    "the form\n",
    "$$\\hat{x} \\pm 2 \\times SE\\left(\\hat{x}\\right)$$\n",
    "\n",
    "In case of advertising data, the confidence interval for $\\beta_{0}$ and $\\beta_{1}$ are\n",
    "$\\left[6.130, 7.935\\right]$ and $\\left[0.042, 0.053\\right]$ respectively.\n",
    "Therefore, we can conclude that in the absence of any advertising, sales will,\n",
    "on average, fall somewhere between 6,130 and 7,935 units. Furthermore,\n",
    "for each \\\\$1,000 increase in television advertising, there will be an average\n",
    "increase in sales of between 42 and 53 units. We can check this out by looking at\n",
    "the fact that both our computed $\\hat{\\beta_{0}}$ and $\\hat{\\beta_{1}}$ are approximately\n",
    "equal to the mean of the extreme values of the confidence intervals."
   ]
  },
  {
   "cell_type": "markdown",
   "metadata": {},
   "source": [
    "At this point, we can counter our hypothesis of whether there is a relation between $X$ and $Y$?\n",
    "\n",
    "- If there is no relation between $X$ and $Y$, we call it the *null hypothesis* $\\left(H_{0}\\right)$.\n",
    "- If there is some relation between $X$ and $Y$, we call it the *alternative hypothesis* $\\left(H_{a}\\right)$.\n",
    "\n",
    "Mathematically,\n",
    "$$H_{0} : \\beta_{1} = 0$$\n",
    "vs.\n",
    "$$H_{a} : \\beta_{1} \\neq 0$$\n",
    "\n",
    "We use the *t-statistic* and the probability of observing any number equal to $|t|$ or\n",
    "larger in absolute value, assuming $\\beta_{1} = 0$, known as *p-value*. A small p-value\n",
    "indicates a substantial relationship and we can reject the null hypothesis.\n",
    "\n",
    "In our dataset,\n",
    "\n",
    "<table>\n",
    "    <tr>\n",
    "        <th></th>\n",
    "        <th>Estimate</th>\n",
    "        <th>Std. Error</th>\n",
    "        <th>t-statistic</th>\n",
    "        <th>p-value</th>\n",
    "    </tr>\n",
    "    <tr>\n",
    "        <th>(Intercept)</th>\n",
    "        <td>7.032594</td>\n",
    "        <td>0.457843</td>\n",
    "        <td>15.36</td>\n",
    "        <td>$\\lt$2e-16</td>\n",
    "    </tr>\n",
    "    <tr>\n",
    "        <th>adv\\$TV</th>\n",
    "        <td>0.047537</td>\n",
    "        <td>0.002691</td>\n",
    "        <td>17.67</td>\n",
    "        <td>$\\lt$2e-16</td>\n",
    "    </tr>\n",
    "</table>\n",
    "\n",
    "Notice that the coefficients for $\\hat{\\beta_{0}}$ and $\\hat{\\beta_{1}}$ are very large relative to their\n",
    "standard errors, so the t-statistics are also large; the probabilities of seeing\n",
    "such values if $H_{0}$ is true are virtually zero. Hence we can conclude that\n",
    "$\\beta_{0} \\neq 0$ and $\\beta_{1} \\neq 0$.\n",
    "\n",
    "A small p-value for the intercept indicates that we can reject the null\n",
    "hypothesis that $\\beta_{0} = 0$, and a small p-value for TV indicates that we can reject the null\n",
    "hypothesis that $\\beta_{1} = 0$. Rejecting the latter null hypothesis allows us to conclude that\n",
    "there is a relationship between TV and sales. Rejecting the former allows us to conclude\n",
    "that in the absence of TV expenditure, sales are non-zero."
   ]
  },
  {
   "cell_type": "markdown",
   "metadata": {},
   "source": [
    "<a name=\"modelacc\"></a>\n",
    "### Assessing the Model Accuracy"
   ]
  },
  {
   "cell_type": "markdown",
   "metadata": {},
   "source": [
    "Once we have rejected one of the hypothesis in favor of another,\n",
    "it is natural to quantify *the extent to which the model fits the data*.\n",
    "\n",
    "The quality of a linear regression fit is typically assessed using two quantities:\n",
    "- *residual standard error (RSE)*\n",
    "- *$R^{2}$ statistic*\n",
    "\n",
    "These values for linear regression of number of units sold on TV advertising budget is\n",
    "\n",
    "<table>\n",
    "    <tr>\n",
    "        <th>Quantity</th>\n",
    "        <th>Value</th>\n",
    "    </tr>\n",
    "    <tr>\n",
    "        <td>Residual standard error</td>\n",
    "        <td>3.259</td>\n",
    "    </tr>\n",
    "    <tr>\n",
    "        <td>Multiple $R^{2}$</td>\n",
    "        <td>0.6119</td>\n",
    "    </tr>\n",
    "    <tr>\n",
    "        <td>F-statistic</td>\n",
    "        <td>312.1</td>\n",
    "    </tr>\n",
    "</table>"
   ]
  },
  {
   "cell_type": "markdown",
   "metadata": {},
   "source": [
    "#### Residual Standard Error"
   ]
  },
  {
   "cell_type": "markdown",
   "metadata": {},
   "source": [
    "With each observation, there is an associated error term $\\epsilon$.\n",
    "Due to presence of the error terms, even if we knew the true regression line,\n",
    "(i.e. even if $\\beta_{0}$ and $\\beta_{1}$ were known),\n",
    "we would not be able to perfectly predict $Y$ from $X$.\n",
    "\n",
    "The RSE is an estimate of standard deviation of $\\epsilon$.\n",
    "The RSE is considered a measure of the *lack of fit* of the model to the data.\n",
    "Roughly speaking, it is the average amount that the response will deviate from the true regression line.\n",
    "\n",
    "$$RSS = \\sqrt{\\frac{RSS}{n - 2}} = \\sqrt{\\frac{\\sum_{i=1}^{n}\\left(y_{i} - \\hat{y_{i}}\\right)^{2}}{n - 2}}$$\n",
    "\n",
    "In our case, RSE is estimated to be 3.259. This can be interpreted as actual sales in\n",
    "each market deviate from the true regression line by approximately 3259\n",
    "units, on average. Another way to think about this is that even if the\n",
    "model were correct and the true values of the unknown coefficients $\\beta_{0}$\n",
    "and $\\beta_{1}$ were known exactly, any prediction of sales on the basis of TV\n",
    "advertising would still be off by about 3259 units on average.\n",
    "\n",
    "The mean value of sales is:"
   ]
  },
  {
   "cell_type": "code",
   "execution_count": 7,
   "metadata": {},
   "outputs": [
    {
     "name": "stdout",
     "output_type": "stream",
     "text": [
      "[1] 14.0225\n"
     ]
    }
   ],
   "source": [
    "print(y.bar)"
   ]
  },
  {
   "cell_type": "markdown",
   "metadata": {},
   "source": [
    "So, the percentage error is approximately"
   ]
  },
  {
   "cell_type": "code",
   "execution_count": 8,
   "metadata": {},
   "outputs": [
    {
     "data": {
      "text/html": [
       "23.2387688974895"
      ],
      "text/latex": [
       "23.2387688974895"
      ],
      "text/markdown": [
       "23.2387688974895"
      ],
      "text/plain": [
       "[1] 23.23877"
      ]
     },
     "metadata": {},
     "output_type": "display_data"
    }
   ],
   "source": [
    "rse / y.bar * 100"
   ]
  },
  {
   "cell_type": "markdown",
   "metadata": {},
   "source": [
    "#### $R^{2}$ Statistic"
   ]
  },
  {
   "cell_type": "markdown",
   "metadata": {},
   "source": [
    "The RSE provides an absolute measure of lack of fit of the model\n",
    "to the data. But since it is measured in the units of $Y$, it is not always\n",
    "clear what constitutes a good RSE. The $R^{2}$ statistic provides an alternative\n",
    "measure of fit. It takes the form of a proportion — the proportion of variance\n",
    "explained — and so it always takes on a value between 0 and 1, and is\n",
    "independent of the scale of $Y$. $R^{2}$ is defined as\n",
    "\n",
    "$$R^{2} = \\frac{TSS - RSS}{TSS} = 1 - \\frac{RSS}{TSS}$$\n",
    "\n",
    "where $TSS = \\sum{\\left(y_{i} - \\bar{y}\\right)^{2}}$ which is *total sum of squares*.\n",
    "TSS measures the total variance in the response $Y$, and can be\n",
    "thought of as the amount of variability inherent in the response before the\n",
    "regression is performed. In contrast, RSS measures the amount of variability\n",
    "that is left unexplained after performing the regression. Hence, TSS − RSS\n",
    "measures the amount of variability in the response that is explained (or\n",
    "removed) by performing the regression, and $R^{2}$ measures the *proportion\n",
    "of variability in $Y$ that can be explained using $X$*. An $R^{2}$ statistic that is\n",
    "close to 1 indicates that a large proportion of the variability in the response\n",
    "has been explained by the regression. A number near 0 indicates that the\n",
    "regression did not explain much of the variability in the response; this might\n",
    "occur because the linear model is wrong, or the inherent error $\\sigma^{2}$ is high,\n",
    "or both. The $R^{2}$ was 0.6119, and so just about two-thirds of the\n",
    "variability in *sales* is explained by a linear regression on *TV*.\n",
    "The $R^{2}$ statistic has an interpretational advantage over the RSE\n",
    "since unlike the RSE, it always lies between 0 and 1. The $R^{2}$ statistic is a\n",
    "measure of the linear relationship between $X$ and $Y$."
   ]
  },
  {
   "cell_type": "code",
   "execution_count": 9,
   "metadata": {},
   "outputs": [
    {
     "name": "stdout",
     "output_type": "stream",
     "text": [
      "[1] 5417.149\n"
     ]
    }
   ],
   "source": [
    "tss <- sum((y - y.bar)**2)\n",
    "print(tss)"
   ]
  },
  {
   "cell_type": "code",
   "execution_count": 10,
   "metadata": {},
   "outputs": [
    {
     "name": "stdout",
     "output_type": "stream",
     "text": [
      "[1] 0.6118751\n"
     ]
    }
   ],
   "source": [
    "r.sqr = 1 - (rss / tss)\n",
    "print(r.sqr)"
   ]
  },
  {
   "cell_type": "markdown",
   "metadata": {},
   "source": [
    "We can also use correlation\n",
    "\n",
    "$$cor(X, Y) = \\frac{\\sum_{i=1}^{n}\\left(x_{i} - \\bar{x}\\right)\\left(y_{i} - \\bar{y}\\right)}\n",
    "                   {\\sqrt{\\sum_{i=1}^{n}\\left(x_{i} - \\bar{x}\\right)^{2}}\\sqrt{\\sum_{i=1}^{n}\\left(y_{i} - \\bar{y}\\right)^{2}}}$$"
   ]
  },
  {
   "cell_type": "code",
   "execution_count": 11,
   "metadata": {},
   "outputs": [
    {
     "name": "stdout",
     "output_type": "stream",
     "text": [
      "[1] 0.7822244\n"
     ]
    }
   ],
   "source": [
    "print(sum((x - x.bar) * (y - y.bar)) / sqrt(sum((x - x.bar)**2)) / sqrt(sum((y - y.bar)**2)))"
   ]
  },
  {
   "cell_type": "markdown",
   "metadata": {},
   "source": [
    "Or simply,"
   ]
  },
  {
   "cell_type": "code",
   "execution_count": 12,
   "metadata": {},
   "outputs": [
    {
     "name": "stdout",
     "output_type": "stream",
     "text": [
      "[1] 0.7822244\n"
     ]
    }
   ],
   "source": [
    "print(cor(x, y))"
   ]
  },
  {
   "cell_type": "markdown",
   "metadata": {},
   "source": [
    "This all can be done using the *lm* function"
   ]
  },
  {
   "cell_type": "code",
   "execution_count": 13,
   "metadata": {},
   "outputs": [
    {
     "name": "stdout",
     "output_type": "stream",
     "text": [
      "\n",
      "Call:\n",
      "lm(formula = adv$sales ~ adv$TV, data = adv)\n",
      "\n",
      "Coefficients:\n",
      "(Intercept)       adv$TV  \n",
      "    7.03259      0.04754  \n",
      "\n"
     ]
    }
   ],
   "source": [
    "fit <- lm(adv$sales ~ adv$TV, data = adv)\n",
    "print(fit)"
   ]
  },
  {
   "cell_type": "code",
   "execution_count": 14,
   "metadata": {},
   "outputs": [
    {
     "data": {
      "text/plain": [
       "\n",
       "Call:\n",
       "lm(formula = adv$sales ~ adv$TV, data = adv)\n",
       "\n",
       "Residuals:\n",
       "    Min      1Q  Median      3Q     Max \n",
       "-8.3860 -1.9545 -0.1913  2.0671  7.2124 \n",
       "\n",
       "Coefficients:\n",
       "            Estimate Std. Error t value Pr(>|t|)    \n",
       "(Intercept) 7.032594   0.457843   15.36   <2e-16 ***\n",
       "adv$TV      0.047537   0.002691   17.67   <2e-16 ***\n",
       "---\n",
       "Signif. codes:  0 ‘***’ 0.001 ‘**’ 0.01 ‘*’ 0.05 ‘.’ 0.1 ‘ ’ 1\n",
       "\n",
       "Residual standard error: 3.259 on 198 degrees of freedom\n",
       "Multiple R-squared:  0.6119,\tAdjusted R-squared:  0.6099 \n",
       "F-statistic: 312.1 on 1 and 198 DF,  p-value: < 2.2e-16\n"
      ]
     },
     "metadata": {},
     "output_type": "display_data"
    }
   ],
   "source": [
    "summary(fit)"
   ]
  },
  {
   "cell_type": "markdown",
   "metadata": {},
   "source": [
    "***For equivalent Python3 code, go to [simple_linear_regression.py](../simple_linear_regression.py)***"
   ]
  }
 ],
 "metadata": {
  "kernelspec": {
   "display_name": "R",
   "language": "R",
   "name": "ir"
  },
  "language_info": {
   "codemirror_mode": "r",
   "file_extension": ".r",
   "mimetype": "text/x-r-source",
   "name": "R",
   "pygments_lexer": "r",
   "version": "3.5.2"
  }
 },
 "nbformat": 4,
 "nbformat_minor": 4
}
