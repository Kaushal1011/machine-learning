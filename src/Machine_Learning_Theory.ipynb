{
 "cells": [
  {
   "cell_type": "markdown",
   "metadata": {},
   "source": [
    "# Statistical Learning\n",
    "---"
   ]
  },
  {
   "cell_type": "markdown",
   "metadata": {},
   "source": [
    "## What is Statistical Learning?"
   ]
  },
  {
   "cell_type": "markdown",
   "metadata": {},
   "source": [
    "We try to determine the association between the input variables and output variables.\n",
    "\n",
    "Input variables are also known as *predictors, independent variables, features,* or sometimes just *variables*.\n",
    "\n",
    "Output variables are also known as *response* or *dependent variables*.\n",
    "\n",
    "Here, we will consider the **Advertising** dataset.\n",
    "\n",
    "Generally, we suppose a relation $$Y = f(X) + \\epsilon$$ where Y is the response, X is predictors, $f$ is some fixed but unknown function of p different predictors $X = (X_{1}, X_{2}, \\cdots, X_{p})$ and $\\epsilon$ is the general error term independent of X with mean error 0.\n",
    "\n",
    "In essence, statistical learning refers to a set of approaches for estimating $f$."
   ]
  },
  {
   "cell_type": "markdown",
   "metadata": {},
   "source": [
    "### Why estimate $f$?"
   ]
  },
  {
   "cell_type": "markdown",
   "metadata": {},
   "source": [
    "There are two main reasons to estimate $f$:\n",
    "- *Prediction*\n",
    "- *Inference*"
   ]
  },
  {
   "cell_type": "markdown",
   "metadata": {},
   "source": [
    "### *Prediction*"
   ]
  },
  {
   "cell_type": "markdown",
   "metadata": {},
   "source": [
    "In many situations, a set of inputs X are readily available, but the output\n",
    "Y cannot be easily obtained. In this setting, since the error term averages\n",
    "to zero, we can predict Y using $$\\hat{Y} = \\hat{f}(X)$$\n",
    "where $\\hat{f}$ represents our estimate for $f$, and $\\hat{Y}$ represents the resulting prediction for $Y$.\n",
    "\n",
    "In this setting, $\\hat{f}$ is generally treated as *black box*, in the sense that we are generally not concerned with the exact form of $\\hat{f}$, provided that it yields accurate predictions of Y."
   ]
  },
  {
   "cell_type": "markdown",
   "metadata": {},
   "source": [
    "The accuracy of $\\hat{Y}$ as a prediction of $Y$ depends on two quantities:\n",
    "- *reducible error*\n",
    "- *irreducible error*\n",
    "\n",
    "In general,\n",
    "$\\hat{f}$ will not be a perfect estimate for $f$, and this inaccuracy will introduce\n",
    "some error. This error is reducible because we can potentially improve the\n",
    "accuracy of $\\hat{f}$ by using the most appropriate statistical learning technique to\n",
    "estimate $f$. However, even if it were possible to form a perfect estimate for\n",
    "$f$, so that our estimated response took the form $\\hat{Y} = f(X)$, our prediction\n",
    "would still have some error in it! This is because Y is also a function of\n",
    "$\\epsilon$, which, by definition, cannot be predicted using X. Therefore, variability\n",
    "associated with $\\epsilon$ also affects the accuracy of our predictions. This is known\n",
    "as the irreducible error, because no matter how well we estimate $f$, we\n",
    "cannot reduce the error introduced by $\\epsilon$.\n",
    "\n",
    "Consider a given estimate $\\hat{f}$ and a set of predictors $X$, which yields the prediction $\\hat{Y} = \\hat{f}(X)$. Assume for a moment that both $\\hat{f}$ and $X$ are fixed. Then, it is easy to show that\n",
    "$$E(Y - \\hat{Y})^{2} = E[f(X) + \\epsilon - \\hat{f}(X)]^{2} = [f(X) - \\hat{f}(X)]^{2} + Var(\\epsilon)$$\n",
    "where $E(Y - \\hat{Y})^{2}$ represents the average, or expected value, of the squared\n",
    "difference between the predicted and actual value of Y, and Var($\\epsilon$) represents the variance associated with the error term $\\epsilon$ which is the irreducible error while $[f(X) - \\hat{f}(X)]^{2}$ is the reducible error."
   ]
  }
 ],
 "metadata": {
  "kernelspec": {
   "display_name": "Python 3",
   "language": "python",
   "name": "python3"
  },
  "language_info": {
   "codemirror_mode": {
    "name": "ipython",
    "version": 3
   },
   "file_extension": ".py",
   "mimetype": "text/x-python",
   "name": "python",
   "nbconvert_exporter": "python",
   "pygments_lexer": "ipython3",
   "version": "3.7.4"
  }
 },
 "nbformat": 4,
 "nbformat_minor": 4
}
