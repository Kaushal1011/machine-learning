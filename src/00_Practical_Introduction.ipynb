{
 "cells": [
  {
   "cell_type": "markdown",
   "metadata": {},
   "source": [
    "# Machine Learning\n",
    "\n",
    "## Types of learning\n",
    "- Whether or not they are trained with human supervision (supervised, unsupervised, semisupervised, and Reinforcement Learning)\n",
    "- Whether or not they can learn incrementally on the fly (online versus batch learning)\n",
    "- Whether they work by simply comparing new data points to known data points, or instead detect patterns in the training data and build a predictive model, much like scientists do (instance-based versus model-based learning)\n"
   ]
  },
  {
   "cell_type": "markdown",
   "metadata": {},
   "source": [
    "# Types Of Machine Learning Systems\n",
    "\n",
    "## Supervised VS Unsupervised learning\n",
    "\n",
    "### Supervised Learning\n",
    "- In supervised learning, the training data you feed to the algorithm includes the desired solutions, called labels \n",
    "    - k-Nearest Neighbors\n",
    "    - Linear Regression\n",
    "    - Logistic Regression\n",
    "    - Support Vector Machines (SVMs)\n",
    "    - Decision Trees and Random Forests\n",
    "    \n",
    "    - Neural networks\n",
    "\n",
    "### Unsupervised Learning\n",
    "- In unsupervised learning, as you might guess, the training data is unlabeled. The system tries to learn without a teacher\n",
    "    - Clustering\n",
    "        - k-Means\n",
    "        - Hierarchical Cluster Analysis (HCA)\n",
    "        - Expectation Maximization\n",
    "        - DBSCAN\n",
    "    - Visualization and dimensionality reduction\n",
    "        - Principal Component Analysis (PCA)\n",
    "        - Kernel PCA\n",
    "        - Locally-Linear Embedding (LLE)\n",
    "        - t-distributed Stochastic Neighbor Embedding (t-SNE)\n",
    "    - Association rule learning\n",
    "        - Apriori\n",
    "        - Eclat\n",
    "    - Anamoly detection and novelty detection\n",
    "        - One-Class SVM\n",
    "        - Isolation Forest\n",
    "\n",
    "## Semisupervised Learning\n",
    "- Some algorithms can deal with partially labeled training data, usually a lot of unla beled data and a little bit of labeled data. This is called semisupervised learning\n",
    "- Most semisupervised learning algorithms are combinations of unsupervised and supervised algorithms. For example, deep belief networks (DBNs) are based on unsu‐ pervised components called restricted Boltzmann machines (RBMs) stacked on top of one another. RBMs are trained sequentially in an unsupervised manner, and then the whole system is fine-tuned using supervised learning techniques.\n",
    "\n",
    "## Reinforcement Learning\n",
    "- Reinforcement Learning is a very different beast. The learning system, called an agent in this context, can observe the environment, select and perform actions, and get rewards in return (or penalties in the form of negative rewards. It must then learn by itself what is the best strategy, called a policy, to get the most reward over time. A policy defines what action the agent should choose when it is in a given situation.\n",
    "\n",
    "##  Batch And Online Learning\n",
    "\n",
    "### Batch Learning\n",
    "- In batch learning, the system is incapable of learning incrementally: it must be trained using all the available data. This will generally take a lot of time and computing resources, so it is typically done offline. First the system is trained, and then it is launched into production and runs without learning anymore; it just applies what it has learned. This is called offline learning.\n",
    "- If you want a batch learning system to know about new data (such as a new type of spam), you need to train a new version of the system from scratch on the full dataset (not just the new data, but also the old data), then stop the old system and replace it with the new one.\n",
    "\n",
    "### Online Learning\n",
    "- In online learning, you train the system incrementally by feeding it data instances sequentially, either individually or by small groups called mini-batches. Each learning step is fast and cheap, so the system can learn about new data on the fly, as it arrives\n",
    "- Online learning is great for systems that receive data as a continuous flow (e.g., stock prices) and need to adapt to change rapidly or autonomously. It is also a good option if you have limited computing resources: once an online learning system has learned about new data instances, it does not need them anymore, so you can discard them (unless you want to be able to roll back to a previous state and “replay” the data). This can save a huge amount of space.\n",
    "- Online learning algorithms can also be used to train systems on huge datasets that cannot fit in one machine’s main memory (this is called out-of-core learning). The algorithm loads part of the data, runs a training step on that data, and repeats the process until it has run on all of the data\n",
    "    - This whole process is usually done offline (i.e., not on the live system), so online learning can be a confusing name. Think of it as incremental learning\n",
    "- Importance of Learning Rate in Online Learning\n",
    "\n",
    "## Instance-Based Vs Model-Based Learning\n",
    "\n",
    "### Instance-Based Learning\n",
    "- the system learns the examples by heart, then generalizes to new cases using a similarity measure \n",
    "\n",
    "### Model-Based Learning\n",
    "- Another way to generalize from a set of examples is to build a model of these examples, then use that model to make predictions. This is called model-based learning\n",
    "\n"
   ]
  },
  {
   "cell_type": "markdown",
   "metadata": {},
   "source": [
    "# Challenges of Machine Learning\n",
    "- Insuffcient Quantity of Training Data\n",
    "- Nonrepresentative Training Data\n",
    "- Poor-Quality Data\n",
    "- Irrelevant Features\n",
    "- Overfitting the Training Data\n",
    "- Underfitting the Training Data\n",
    "\n",
    "\n",
    "Most Common Supervised Learning Tasks are Classification(predicting classes) And Regression(predicting Values)"
   ]
  }
 ],
 "metadata": {
  "kernelspec": {
   "display_name": "Python 3",
   "language": "python",
   "name": "python3"
  },
  "language_info": {
   "codemirror_mode": {
    "name": "ipython",
    "version": 3
   },
   "file_extension": ".py",
   "mimetype": "text/x-python",
   "name": "python",
   "nbconvert_exporter": "python",
   "pygments_lexer": "ipython3",
   "version": "3.7.5"
  }
 },
 "nbformat": 4,
 "nbformat_minor": 4
}
