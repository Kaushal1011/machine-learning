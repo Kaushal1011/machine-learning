{
 "cells": [
  {
   "cell_type": "markdown",
   "metadata": {},
   "source": [
    "# Essential Statistics and Probability\n",
    "---"
   ]
  },
  {
   "cell_type": "markdown",
   "metadata": {},
   "source": [
    "*R language is used*"
   ]
  },
  {
   "cell_type": "markdown",
   "metadata": {},
   "source": [
    "## Data Representation"
   ]
  },
  {
   "cell_type": "markdown",
   "metadata": {},
   "source": [
    "Data can be represented numerically or graphically in various ways.\n",
    "\n",
    "Consider following dataset vector consisting of 20 random integers:"
   ]
  },
  {
   "cell_type": "code",
   "execution_count": 1,
   "metadata": {},
   "outputs": [
    {
     "name": "stdout",
     "output_type": "stream",
     "text": [
      " [1] 78 79 80 80 80 81 81 81 83 84 86 87 88 89 90 92 95 95 96 99\n",
      "[1] 20\n"
     ]
    }
   ],
   "source": [
    "arr <- sort(sample(78:99, 20, replace = T))\n",
    "print(arr)\n",
    "print(length(arr))"
   ]
  },
  {
   "cell_type": "markdown",
   "metadata": {},
   "source": [
    "The stem-and-leaf plot can be generated as follows:"
   ]
  },
  {
   "cell_type": "code",
   "execution_count": 2,
   "metadata": {},
   "outputs": [
    {
     "name": "stdout",
     "output_type": "stream",
     "text": [
      "\n",
      "  The decimal point is 1 digit(s) to the right of the |\n",
      "\n",
      "  7 | 89\n",
      "  8 | 00011134\n",
      "  8 | 6789\n",
      "  9 | 02\n",
      "  9 | 5569\n",
      "\n"
     ]
    }
   ],
   "source": [
    "stem(arr)"
   ]
  },
  {
   "cell_type": "markdown",
   "metadata": {},
   "source": [
    "This is one of the simplest but most useful representations of data. The numbers range from 78 to 99. We divide these numbers into 5 groups, 75–79, 80–84, 85–89, 90–94, 95–99. The integers in the tens position of the groups are 7, 8, 8, 9, 9. These form the *stem*. The first leaf is 888, representing 78, 78, 78 and so on.\n",
    "\n",
    "The number of times a value occurs is called its absolute frequency. Thus 78 has absolute frequency 3.\n",
    "The cumulative absolute frequencies is the sum of the absolute frequencies of the values up to the line of the leaf.\n",
    "Dividing the cumulative absolute frequencies by *n* (= 20) gives the cumulative relative frequencies."
   ]
  }
 ],
 "metadata": {
  "kernelspec": {
   "display_name": "R",
   "language": "R",
   "name": "ir"
  },
  "language_info": {
   "codemirror_mode": "r",
   "file_extension": ".r",
   "mimetype": "text/x-r-source",
   "name": "R",
   "pygments_lexer": "r",
   "version": "3.5.2"
  }
 },
 "nbformat": 4,
 "nbformat_minor": 4
}
